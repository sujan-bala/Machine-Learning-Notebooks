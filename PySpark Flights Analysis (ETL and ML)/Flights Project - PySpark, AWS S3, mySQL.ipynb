{
 "cells": [
  {
   "cell_type": "markdown",
   "id": "0fd9d10b",
   "metadata": {},
   "source": [
    "# Flights & Ads - Analyzing, Querying, Cleaning & Performing ML\n",
    "## Using PySpark (ml, sql) and ETL integrations  with AWS S3, mySQL \n",
    "<p>We'll use open source data pertaining to Flights and Advertisements.</p>\n",
    "\n",
    "The Approach:\n",
    "<p> Part One: Decision Tree, Random Forest & S3 </p>\n",
    "<li>Store data in an Amazon S3 Bucket, and import all necessary libraries </li>\n",
    "<li>Explore our data using PySpark and make visualizations using Pandas and MatPlotLib/Seaborn. </li>\n",
    "<li>Prepare data for ML, Create a Decision Tree Classifier and Score it. </li>\n",
    "<li>Create a Random Forest Classifier, pipeline and fit to our Advertising Data. </li>\n",
    "<li>Push our predictions dataframe back into S3 programatically.</li>\n",
    "\n",
    "<p> Part Two: K-Means Clustering, PCA, S3 & mySQL </p>\n",
    "<li>Store our in an Amazon S3 Bucket, explore and clean data </li>\n",
    "<li>Prepare data for ML, create KMeans Object and fit them our Flights Data. </li>\n",
    "<li>Optimize our model using hyperparameter tuning </li>\n",
    "<li>Visualize our clusters. </li>\n",
    "<li>Push our predictions dataframe into a mySQL database.</li>\n",
    "</ul>"
   ]
  },
  {
   "cell_type": "markdown",
   "id": "9dfeac94",
   "metadata": {},
   "source": [
    "## Part One: Decision Tree, Random Forest & S3\n",
    "### a) Store data in an Amazon S3 Bucket, and import all necessary libraries"
   ]
  },
  {
   "cell_type": "code",
   "execution_count": 1,
   "id": "c4fff16c",
   "metadata": {},
   "outputs": [],
   "source": [
    "#Initialize\n",
    "#import findspark\n",
    "#findspark.init()"
   ]
  },
  {
   "cell_type": "code",
   "execution_count": 2,
   "id": "2563bd24",
   "metadata": {},
   "outputs": [],
   "source": [
    "#Import Libraries for Part 1\n",
    "\n",
    "#Initial\n",
    "import os\n",
    "import json\n",
    "import pyspark\n",
    "from pyspark.sql import SparkSession\n",
    "\n",
    "#Graphing and exploration\n",
    "import pandas as pd\n",
    "from scipy.stats import chi2_contingency\n",
    "import numpy as np\n",
    "from matplotlib import pyplot as plt\n",
    "import seaborn as sns\n",
    "\n",
    "#ML Preprocessing\n",
    "from pyspark.ml.feature import VectorAssembler\n",
    "from pyspark.ml.feature import MinMaxScaler\n",
    "from pyspark.ml.feature import StringIndexer, IndexToString\n",
    "\n",
    "#ML Models, Pipeline, evaluators\n",
    "from pyspark.ml.classification import DecisionTreeClassifier\n",
    "from pyspark.ml.classification import RandomForestClassifier\n",
    "from pyspark.ml import Pipeline\n",
    "from pyspark.ml.evaluation import MulticlassClassificationEvaluator\n"
   ]
  },
  {
   "cell_type": "code",
   "execution_count": 3,
   "id": "5df90faf",
   "metadata": {},
   "outputs": [],
   "source": [
    "#Import Libraries for Part 2\n",
    "\n",
    "#Cleaning\n",
    "from pyspark.sql.functions import round as rounded\n",
    "\n",
    "#Preprocessing, ML Models, Evaluators\n",
    "from pyspark.ml.feature import StandardScaler\n",
    "from pyspark.ml.clustering import KMeans\n",
    "from pyspark.ml.evaluation import ClusteringEvaluator\n",
    "\n",
    "#Hyperparameter Tuning\n",
    "from pyspark.ml import tuning as tune\n",
    "\n",
    "#SQL\n",
    "import mysql.connector"
   ]
  },
  {
   "cell_type": "code",
   "execution_count": 4,
   "id": "eef5e862",
   "metadata": {},
   "outputs": [],
   "source": [
    "#Set environ using apache aws package\n",
    "os.environ['PYSPARK_SUBMIT_ARGS'] = '--packages org.apache.hadoop:hadoop-aws:2.7.3 pyspark-shell'\n",
    "#os.environ[\"JAVA_HOME\"] = \"/usr/lib/jvm/java-8-openjdk-amd64\"\n",
    "#os.environ[\"SPARK_HOME\"] = \"C:\\Users\\saisu\\Desktop\\spark\""
   ]
  },
  {
   "cell_type": "code",
   "execution_count": 5,
   "id": "e829b18f",
   "metadata": {},
   "outputs": [],
   "source": [
    "with open('rootkey.json') as file:\n",
    "    data = json.load(file)\n",
    "    access_key = data['AWS Keys']['AWSAccessKeyId']\n",
    "    secret_key = data['AWS Keys']['AWSSecretKey']"
   ]
  },
  {
   "cell_type": "code",
   "execution_count": 6,
   "id": "f2a81d90",
   "metadata": {},
   "outputs": [],
   "source": [
    "#Import Secret and Access Keys\n",
    "#change to vscode file\n",
    "AWSAccessKeyId = access_key\n",
    "AWSSecretKey = secret_key"
   ]
  },
  {
   "cell_type": "code",
   "execution_count": 7,
   "id": "bcc697ba",
   "metadata": {},
   "outputs": [],
   "source": [
    "#Create SparkContext\n",
    "sc = pyspark.SparkContext(\"local[*]\").getOrCreate()"
   ]
  },
  {
   "cell_type": "code",
   "execution_count": 8,
   "id": "6801ff3c",
   "metadata": {},
   "outputs": [],
   "source": [
    "#Get Hadoop Configuration Object \n",
    "hadoop_conf = sc._jsc.hadoopConfiguration()"
   ]
  },
  {
   "cell_type": "code",
   "execution_count": 9,
   "id": "86986faf",
   "metadata": {},
   "outputs": [],
   "source": [
    "#Set Hadoop Conf Settings\n",
    "\n",
    "#Set s3a filesystem\n",
    "hadoop_conf.set(\"fs.s3a.impl\", \"org.apache.hadoop.fs.s3native.NativeS3FileSystem\")\n",
    "#Set access key's\n",
    "hadoop_conf.set(\"fs.s3a.awsAccessKeyId\", AWSAccessKeyId)\n",
    "hadoop_conf.set(\"fs.s3a.awsSecretAccessKey\", AWSSecretKey)\n",
    "#Buffer folder (Staging)\n",
    "hadoop_conf.set(\"fs.s3.buffer.dir\", '${hadoop.tmp.dir}/s3')\n",
    "hadoop_conf.set(\"fs.s3a.buffer.dir\", '${hadoop.tmp.dir}/s3a')\n",
    "#Set Endpoint\n",
    "hadoop_conf.set(\"fs.s3a.endpoint\", \"protocol://service-code.ca-central-1.amazonaws.com\");\n"
   ]
  },
  {
   "cell_type": "code",
   "execution_count": 10,
   "id": "8f23c613",
   "metadata": {},
   "outputs": [],
   "source": [
    "#Load File\n",
    "df = sc.textFile(\"s3a://pyspark-ads-data/ads/Social_Network_Ads.csv\")"
   ]
  },
  {
   "cell_type": "code",
   "execution_count": 11,
   "id": "233df530",
   "metadata": {},
   "outputs": [
    {
     "data": {
      "text/plain": [
       "s3a://pyspark-ads-data/ads/Social_Network_Ads.csv MapPartitionsRDD[1] at textFile at <unknown>:0"
      ]
     },
     "execution_count": 11,
     "metadata": {},
     "output_type": "execute_result"
    }
   ],
   "source": [
    "df"
   ]
  },
  {
   "cell_type": "code",
   "execution_count": null,
   "id": "3609906b",
   "metadata": {},
   "outputs": [],
   "source": [
    "#Resolve error\n",
    "df.collect()"
   ]
  },
  {
   "cell_type": "markdown",
   "id": "983b9c89",
   "metadata": {},
   "source": [
    "### b) Explore our data using PySpark and make visualizations using Pandas and MatPlotLib/Seaborn."
   ]
  },
  {
   "cell_type": "code",
   "execution_count": 12,
   "id": "a5941550",
   "metadata": {},
   "outputs": [],
   "source": [
    "#initialize sql context\n",
    "spark = SparkSession.builder.appName('advertising_classifiers').getOrCreate()"
   ]
  },
  {
   "cell_type": "code",
   "execution_count": 13,
   "id": "8729919c",
   "metadata": {},
   "outputs": [],
   "source": [
    "#Load using Spark SQL\n",
    "df = spark.read.csv(\"Data/Social_Network_Ads.csv\", header=True, inferSchema=True)"
   ]
  },
  {
   "cell_type": "code",
   "execution_count": 14,
   "id": "29bfb378",
   "metadata": {},
   "outputs": [
    {
     "name": "stdout",
     "output_type": "stream",
     "text": [
      "+--------+------+---+---------------+---------+\n",
      "| User ID|Gender|Age|EstimatedSalary|Purchased|\n",
      "+--------+------+---+---------------+---------+\n",
      "|15624510|  Male| 19|          19000|        0|\n",
      "|15810944|  Male| 35|          20000|        0|\n",
      "|15668575|Female| 26|          43000|        0|\n",
      "|15603246|Female| 27|          57000|        0|\n",
      "|15804002|  Male| 19|          76000|        0|\n",
      "+--------+------+---+---------------+---------+\n",
      "only showing top 5 rows\n",
      "\n"
     ]
    }
   ],
   "source": [
    "#Inspect first 5 rows\n",
    "df.show(5)"
   ]
  },
  {
   "cell_type": "code",
   "execution_count": 15,
   "id": "9a8e2f81",
   "metadata": {},
   "outputs": [
    {
     "name": "stdout",
     "output_type": "stream",
     "text": [
      "root\n",
      " |-- User ID: integer (nullable = true)\n",
      " |-- Gender: string (nullable = true)\n",
      " |-- Age: integer (nullable = true)\n",
      " |-- EstimatedSalary: integer (nullable = true)\n",
      " |-- Purchased: integer (nullable = true)\n",
      "\n"
     ]
    }
   ],
   "source": [
    "#Check dtypes\n",
    "df.printSchema()"
   ]
  },
  {
   "cell_type": "code",
   "execution_count": 16,
   "id": "7c21c912",
   "metadata": {},
   "outputs": [
    {
     "name": "stdout",
     "output_type": "stream",
     "text": [
      "(400, 5)\n"
     ]
    }
   ],
   "source": [
    "#Get Shape of our Data\n",
    "print((df.count(), len(df.columns)))"
   ]
  },
  {
   "cell_type": "code",
   "execution_count": 17,
   "id": "7973a190",
   "metadata": {},
   "outputs": [],
   "source": [
    "#Check for na's\n",
    "for col in df.columns:\n",
    "    if df.filter(df[col].isNull()).count() > 0:\n",
    "        print(col)"
   ]
  },
  {
   "cell_type": "code",
   "execution_count": 18,
   "id": "795ffbd6",
   "metadata": {},
   "outputs": [
    {
     "name": "stdout",
     "output_type": "stream",
     "text": [
      "0.6224541988845288\n",
      "0.3620830258046777\n"
     ]
    }
   ],
   "source": [
    "#Begin Exploratory Analysis\n",
    "#Investigate Correlation between Y & numerical X\n",
    "print(df.corr('Purchased', 'Age'))\n",
    "print(df.corr('Purchased', 'EstimatedSalary'))"
   ]
  },
  {
   "cell_type": "code",
   "execution_count": 19,
   "id": "a78b4450",
   "metadata": {},
   "outputs": [
    {
     "name": "stdout",
     "output_type": "stream",
     "text": [
      "+----------------+---+---+\n",
      "|Gender_Purchased|  0|  1|\n",
      "+----------------+---+---+\n",
      "|            Male|130| 66|\n",
      "|          Female|127| 77|\n",
      "+----------------+---+---+\n",
      "\n"
     ]
    }
   ],
   "source": [
    "#Two Categorical Variables\n",
    "contigency_table = df.crosstab('Gender', 'Purchased')\n",
    "contigency_table.show()"
   ]
  },
  {
   "cell_type": "code",
   "execution_count": 20,
   "id": "d254cbb4",
   "metadata": {},
   "outputs": [
    {
     "data": {
      "text/plain": [
       "0.45624659183130645"
      ]
     },
     "execution_count": 20,
     "metadata": {},
     "output_type": "execute_result"
    }
   ],
   "source": [
    "chi_2, p_val, dof, expected_table = chi2_contingency([[130, 127], [66, 77]])\n",
    "p_val"
   ]
  },
  {
   "cell_type": "code",
   "execution_count": 21,
   "id": "d9fd23f5",
   "metadata": {},
   "outputs": [],
   "source": [
    "#The benefit of pyspark is its clusters which allow for a lot of data\n",
    "#This is just for practice but we will continue as if we have a lot more data\n",
    "#Get a sample to visualize data\n",
    "\n",
    "df_sample = df.sample(False, 0.3, 10).toPandas()"
   ]
  },
  {
   "cell_type": "code",
   "execution_count": 22,
   "id": "998a0ada",
   "metadata": {},
   "outputs": [
    {
     "data": {
      "image/png": "[encoded data removed]",
      "text/plain": [
       "<Figure size 432x288 with 1 Axes>"
      ]
     },
     "metadata": {
      "needs_background": "light"
     },
     "output_type": "display_data"
    }
   ],
   "source": [
    "df_sample.Age[df_sample.Purchased == 0].hist(alpha=0.6, label='No Purchase')\n",
    "df_sample.Age[df_sample.Purchased == 1].hist(alpha=0.6, label = 'Purchased')\n",
    "plt.title('Age Distribution')\n",
    "plt.legend()\n",
    "plt.show()"
   ]
  },
  {
   "cell_type": "code",
   "execution_count": 23,
   "id": "a9af38ad",
   "metadata": {},
   "outputs": [
    {
     "data": {
      "image/png": "[encoded data removed]",
      "text/plain": [
       "<Figure size 432x288 with 1 Axes>"
      ]
     },
     "metadata": {
      "needs_background": "light"
     },
     "output_type": "display_data"
    }
   ],
   "source": [
    "sns.boxplot(data=df_sample, x='Purchased', y='EstimatedSalary')\n",
    "plt.title('Salary Distributions between Purchased & Did not Purchased')\n",
    "plt.show()"
   ]
  },
  {
   "cell_type": "markdown",
   "id": "7a68e5c7",
   "metadata": {},
   "source": [
    "### c) Prepare data for ML, Create a Decision Tree Classifier and Score it"
   ]
  },
  {
   "cell_type": "code",
   "execution_count": 24,
   "id": "8c666a66",
   "metadata": {},
   "outputs": [
    {
     "name": "stdout",
     "output_type": "stream",
     "text": [
      "+--------+------+---+---------------+---------+\n",
      "| User ID|Gender|Age|EstimatedSalary|Purchased|\n",
      "+--------+------+---+---------------+---------+\n",
      "|15624510|  Male| 19|          19000|        0|\n",
      "|15810944|  Male| 35|          20000|        0|\n",
      "+--------+------+---+---------------+---------+\n",
      "only showing top 2 rows\n",
      "\n"
     ]
    }
   ],
   "source": [
    "df.show(2)"
   ]
  },
  {
   "cell_type": "code",
   "execution_count": 25,
   "id": "b78b4266",
   "metadata": {},
   "outputs": [],
   "source": [
    "#Split data\n",
    "train_data, test_data = df.randomSplit([0.8, 0.2], seed=24)"
   ]
  },
  {
   "cell_type": "code",
   "execution_count": 26,
   "id": "bbdcccf6",
   "metadata": {},
   "outputs": [],
   "source": [
    "#Prepare data for classification #From our analysis above we will use Salary & Income Features\n",
    "\n",
    "#Instantiate Vector Assembler\n",
    "vec_assem = VectorAssembler(inputCols=['Age', 'EstimatedSalary'], outputCol='features')\n",
    "\n",
    "#Instantiate Scaler \n",
    "scaler = MinMaxScaler(inputCol='features', outputCol='features_scaled')\n",
    "\n",
    "#indexer (y val) #we would normally use vectorindexer on our features with maxcat > 5, to index non-continuous features (since vec assembler is first)\n",
    "#however we have only continuous features\n",
    "\n",
    "indexer = StringIndexer(inputCol = 'Purchased', outputCol = 'indexedLabel').fit(train_data)\n",
    "#indexer must be fit to use label_converter's labels\n",
    "label_converter = IndexToString(inputCol= 'prediction', outputCol='predictedLabel', labels=indexer.labels)"
   ]
  },
  {
   "cell_type": "code",
   "execution_count": 27,
   "id": "66c682ed",
   "metadata": {},
   "outputs": [],
   "source": [
    "#Instantiate Decision Tree Classifier #Default param is okay, max depth 5, gini impurity score etc.\n",
    "\n",
    "dtc = DecisionTreeClassifier(featuresCol = 'features_scaled', labelCol='indexedLabel')"
   ]
  },
  {
   "cell_type": "code",
   "execution_count": 28,
   "id": "8bcf9a82",
   "metadata": {},
   "outputs": [],
   "source": [
    "#Instantiate Pipeline\n",
    "#Scaler does not handle multicol's so we'll assemble a vector first\n",
    "#Scale, index, train our model, then convert our label back to the predicted class\n",
    "\n",
    "dtc_pipeline = Pipeline(stages=[vec_assem, scaler, indexer, dtc, label_converter])"
   ]
  },
  {
   "cell_type": "code",
   "execution_count": 29,
   "id": "f62f8445",
   "metadata": {},
   "outputs": [],
   "source": [
    "#Fit model to training data\n",
    "model = dtc_pipeline.fit(train_data)"
   ]
  },
  {
   "cell_type": "code",
   "execution_count": 30,
   "id": "85ddbf8c",
   "metadata": {},
   "outputs": [],
   "source": [
    "#Score model on testing data\n",
    "pred = model.transform(test_data)\n",
    "pred = pred.withColumn('predictedLabel', pred.predictedLabel.cast('double'))"
   ]
  },
  {
   "cell_type": "code",
   "execution_count": 31,
   "id": "5d969a44",
   "metadata": {},
   "outputs": [
    {
     "data": {
      "text/plain": [
       "0.9437562437562437"
      ]
     },
     "execution_count": 31,
     "metadata": {},
     "output_type": "execute_result"
    }
   ],
   "source": [
    "#Instantiate Evaluator and Evaluate Model\n",
    "evaluator = MulticlassClassificationEvaluator(predictionCol='predictedLabel', labelCol='Purchased')\n",
    "evaluator.evaluate(pred)"
   ]
  },
  {
   "cell_type": "code",
   "execution_count": 32,
   "id": "bfea7a0b",
   "metadata": {},
   "outputs": [
    {
     "name": "stdout",
     "output_type": "stream",
     "text": [
      "+--------------+---------+-----+\n",
      "|predictedLabel|purchased|count|\n",
      "+--------------+---------+-----+\n",
      "|           1.0|        0|    4|\n",
      "|           0.0|        0|   42|\n",
      "|           1.0|        1|   24|\n",
      "+--------------+---------+-----+\n",
      "\n",
      "True Positive's: 24\n",
      "True Negative's: 42\n",
      "False Positive's: 4\n",
      "False Negative's: 0\n",
      "\n",
      "\n",
      "Accuracy: 0.94\n",
      "Recall: 1.0\n",
      "Precision: 0.86\n"
     ]
    }
   ],
   "source": [
    "#Create Confusion Matrix & Calculate other metrics\n",
    "matrix = pred.groupBy(['predictedLabel', 'purchased']).count().show()\n",
    "TP = pred.filter('predictedLabel == purchased AND purchased == 1').count()\n",
    "TN = pred.filter('predictedLabel == purchased AND purchased == 0').count()\n",
    "FP = pred.filter('predictedLabel != purchased AND purchased == 0').count()\n",
    "FN = pred.filter('predictedLabel != purchased AND purchased == 1').count()\n",
    "print(f'True Positive\\'s: {TP}')\n",
    "print(f'True Negative\\'s: {TN}')\n",
    "print(f'False Positive\\'s: {FP}')\n",
    "print(f'False Negative\\'s: {FN}')\n",
    "print('\\n')\n",
    "print(f'Accuracy: {round((TP + TN)/(TP + TN + FP + FN), 2)}')\n",
    "print(f'Recall: {round((TP)/(TP + FN), 2)}')\n",
    "print(f'Precision: {round((TP)/(TP + FP), 2)}')"
   ]
  },
  {
   "cell_type": "markdown",
   "id": "2a6eaad6",
   "metadata": {},
   "source": [
    "### d) Create a Random Forest Classifier, pipeline and fit to our Advertising Data."
   ]
  },
  {
   "cell_type": "code",
   "execution_count": 33,
   "id": "3cff4599",
   "metadata": {},
   "outputs": [],
   "source": [
    "#Instantiate Random Forest Classifier #Default is fine 20 trees, auto/sqrt columns etc.\n",
    "rf = RandomForestClassifier(featuresCol = 'features_scaled', labelCol='indexedLabel')\n",
    "\n",
    "#Build new pipeline\n",
    "rf_pipeline = Pipeline(stages=[vec_assem, scaler, indexer, rf, label_converter])"
   ]
  },
  {
   "cell_type": "code",
   "execution_count": 34,
   "id": "cb62f7d6",
   "metadata": {},
   "outputs": [],
   "source": [
    "#Train and Score RF Model\n",
    "rf_model = rf_pipeline.fit(train_data)"
   ]
  },
  {
   "cell_type": "code",
   "execution_count": 35,
   "id": "0fbf8723",
   "metadata": {},
   "outputs": [],
   "source": [
    "#Score model on testing data\n",
    "pred = rf_model.transform(test_data)\n",
    "pred = pred.withColumn('predictedLabel', pred.predictedLabel.cast('double'))"
   ]
  },
  {
   "cell_type": "code",
   "execution_count": 36,
   "id": "4560a8c5",
   "metadata": {},
   "outputs": [
    {
     "data": {
      "text/plain": [
       "0.9437562437562437"
      ]
     },
     "execution_count": 36,
     "metadata": {},
     "output_type": "execute_result"
    }
   ],
   "source": [
    "#Evaluate using same evaluator\n",
    "evaluator.evaluate(pred)"
   ]
  },
  {
   "cell_type": "code",
   "execution_count": 37,
   "id": "f2b620f5",
   "metadata": {},
   "outputs": [
    {
     "name": "stdout",
     "output_type": "stream",
     "text": [
      "+--------------+---------+-----+\n",
      "|predictedLabel|purchased|count|\n",
      "+--------------+---------+-----+\n",
      "|           1.0|        0|    4|\n",
      "|           0.0|        0|   42|\n",
      "|           1.0|        1|   24|\n",
      "+--------------+---------+-----+\n",
      "\n",
      "True Positive's: 24\n",
      "True Negative's: 42\n",
      "False Positive's: 4\n",
      "False Negative's: 0\n",
      "\n",
      "\n",
      "Accuracy: 0.94\n",
      "Recall: 1.0\n",
      "Precision: 0.86\n"
     ]
    }
   ],
   "source": [
    "matrix = pred.groupBy(['predictedLabel', 'purchased']).count().show()\n",
    "TP = pred.filter('predictedLabel == purchased AND purchased == 1').count()\n",
    "TN = pred.filter('predictedLabel == purchased AND purchased == 0').count()\n",
    "FP = pred.filter('predictedLabel != purchased AND purchased == 0').count()\n",
    "FN = pred.filter('predictedLabel != purchased AND purchased == 1').count()\n",
    "print(f'True Positive\\'s: {TP}')\n",
    "print(f'True Negative\\'s: {TN}')\n",
    "print(f'False Positive\\'s: {FP}')\n",
    "print(f'False Negative\\'s: {FN}')\n",
    "print('\\n')\n",
    "accuracy = round(float((TP + TN)/(TP + TN + FP + FN)), 2)\n",
    "print(f'Accuracy: {accuracy}')\n",
    "print(f'Recall: {round((TP)/(TP + FN), 2)}')\n",
    "print(f'Precision: {round((TP)/(TP + FP), 2)}')\n",
    "#Our dataset isn't really big enough to take advantage of a True Random Forest (tree's are identical to our DTC just multiple)\n",
    "#E.g. subsamplingRate = 0.10 would yield diff accuracy (to simulate if tree's had different data each)"
   ]
  },
  {
   "cell_type": "markdown",
   "id": "3df8ecec",
   "metadata": {},
   "source": [
    "### e) Push our predictions dataframe back into S3 programatically."
   ]
  },
  {
   "cell_type": "code",
   "execution_count": null,
   "id": "819f5f1b",
   "metadata": {},
   "outputs": [],
   "source": [
    "#Solve error\n",
    "pred.rdd.repartition(1).saveAsTextFile(\"s3a://pyspark-ads-data/ads/predictions_rdd\")"
   ]
  },
  {
   "cell_type": "code",
   "execution_count": null,
   "id": "392ce3f4",
   "metadata": {},
   "outputs": [],
   "source": [
    "#Solve error\n",
    "pred.write.csv('s3a://pyspark-ads-data/ads/Social_Network_Ads_predicted.csv')"
   ]
  },
  {
   "cell_type": "markdown",
   "id": "f5b02516",
   "metadata": {},
   "source": [
    "## Part Two: K-Means Clustering, PCA, S3 & mySQL\n",
    "### a) Store our in an Amazon S3 Bucket, import all necessary libraries, explore and clean data."
   ]
  },
  {
   "cell_type": "code",
   "execution_count": 38,
   "id": "5ef6f45c",
   "metadata": {},
   "outputs": [],
   "source": [
    "#Initial sql context\n",
    "spark = SparkSession.builder.appName('flights_cluster').getOrCreate()"
   ]
  },
  {
   "cell_type": "code",
   "execution_count": 39,
   "id": "489bb288",
   "metadata": {},
   "outputs": [
    {
     "name": "stdout",
     "output_type": "stream",
     "text": [
      "+------+----+-------+--------+\n",
      "|Origin|Dest|AirTime|Distance|\n",
      "+------+----+-------+--------+\n",
      "|   MSP| SLC|  153.0|   991.0|\n",
      "|   MKE| MCO|  141.0|  1066.0|\n",
      "|   GJT| DFW|  103.0|   773.0|\n",
      "|   LAX| DTW|  220.0|  1979.0|\n",
      "|   EWR| CLT|   80.0|   529.0|\n",
      "+------+----+-------+--------+\n",
      "only showing top 5 rows\n",
      "\n"
     ]
    }
   ],
   "source": [
    "#Import Dataset\n",
    "df = spark.read.csv('Data/airlines1.csv', header=True)\n",
    "airline = df.select(\"Origin\",\"Dest\",\"AirTime\",\"Distance\")\n",
    "airline.show(5)"
   ]
  },
  {
   "cell_type": "code",
   "execution_count": 40,
   "id": "9d49a0ea",
   "metadata": {},
   "outputs": [
    {
     "data": {
      "text/plain": [
       "DataFrame[Origin: string, Dest: string, AirTime: string, Distance: string]"
      ]
     },
     "execution_count": 40,
     "metadata": {},
     "output_type": "execute_result"
    }
   ],
   "source": [
    "#Dataset is heavy so we will cache is\n",
    "airline.cache()"
   ]
  },
  {
   "cell_type": "code",
   "execution_count": 41,
   "id": "73bd7352",
   "metadata": {},
   "outputs": [
    {
     "name": "stdout",
     "output_type": "stream",
     "text": [
      "root\n",
      " |-- Origin: string (nullable = true)\n",
      " |-- Dest: string (nullable = true)\n",
      " |-- AirTime: string (nullable = true)\n",
      " |-- Distance: string (nullable = true)\n",
      "\n"
     ]
    }
   ],
   "source": [
    "#Check types\n",
    "airline.printSchema()"
   ]
  },
  {
   "cell_type": "code",
   "execution_count": 42,
   "id": "ea22b151",
   "metadata": {},
   "outputs": [
    {
     "name": "stdout",
     "output_type": "stream",
     "text": [
      "+------+----+-------+--------+\n",
      "|Origin|Dest|AirTime|Distance|\n",
      "+------+----+-------+--------+\n",
      "|   MSP| SLC|    153|   246.0|\n",
      "|   MKE| MCO|    141|   227.0|\n",
      "|   GJT| DFW|    103|   166.0|\n",
      "|   LAX| DTW|    220|   354.0|\n",
      "|   EWR| CLT|     80|   129.0|\n",
      "|   DFW| SHV|     28|    45.0|\n",
      "|   BOS| CLE|     94|   151.0|\n",
      "|   ATL| CAE|     35|    56.0|\n",
      "|   ORD| CLE|     59|    95.0|\n",
      "|   MDW| DAL|    114|   183.0|\n",
      "+------+----+-------+--------+\n",
      "only showing top 10 rows\n",
      "\n"
     ]
    }
   ],
   "source": [
    "#Correct dtypes\n",
    "\n",
    "airline = airline.withColumn('AirTime', airline.AirTime.cast('int'))\n",
    "\n",
    "#Distance is currently in miles we will convert to km as well\n",
    "airline = airline.withColumn('Distance', rounded(airline.AirTime.cast('int')*1.609344))\n",
    "airline.show(10)"
   ]
  },
  {
   "cell_type": "code",
   "execution_count": 43,
   "id": "cfb7319a",
   "metadata": {},
   "outputs": [
    {
     "name": "stdout",
     "output_type": "stream",
     "text": [
      "AirTime 10529\n"
     ]
    }
   ],
   "source": [
    "#Check for NULL's\n",
    "for col in airline.columns:\n",
    "    count = airline.filter(df[col].isNull()).count()\n",
    "    if count != 0:\n",
    "        print(col, count)"
   ]
  },
  {
   "cell_type": "code",
   "execution_count": 44,
   "id": "6f278546",
   "metadata": {},
   "outputs": [
    {
     "ename": "ValueError",
     "evalue": "Data has duplicates",
     "output_type": "error",
     "traceback": [
      "\u001b[1;31m---------------------------------------------------------------------------\u001b[0m",
      "\u001b[1;31mValueError\u001b[0m                                Traceback (most recent call last)",
      "\u001b[1;32m~\\AppData\\Local\\Temp/ipykernel_28144/3234751902.py\u001b[0m in \u001b[0;36m<module>\u001b[1;34m\u001b[0m\n\u001b[0;32m      1\u001b[0m \u001b[1;31m#Check for duplicates\u001b[0m\u001b[1;33m\u001b[0m\u001b[1;33m\u001b[0m\u001b[0m\n\u001b[0;32m      2\u001b[0m \u001b[1;32mif\u001b[0m \u001b[0mairline\u001b[0m\u001b[1;33m.\u001b[0m\u001b[0mcount\u001b[0m\u001b[1;33m(\u001b[0m\u001b[1;33m)\u001b[0m \u001b[1;33m>\u001b[0m \u001b[0mairline\u001b[0m\u001b[1;33m.\u001b[0m\u001b[0mdropDuplicates\u001b[0m\u001b[1;33m(\u001b[0m\u001b[1;33m)\u001b[0m\u001b[1;33m.\u001b[0m\u001b[0mcount\u001b[0m\u001b[1;33m(\u001b[0m\u001b[1;33m)\u001b[0m\u001b[1;33m:\u001b[0m\u001b[1;33m\u001b[0m\u001b[1;33m\u001b[0m\u001b[0m\n\u001b[1;32m----> 3\u001b[1;33m     \u001b[1;32mraise\u001b[0m \u001b[0mValueError\u001b[0m\u001b[1;33m(\u001b[0m\u001b[1;34m'Data has duplicates'\u001b[0m\u001b[1;33m)\u001b[0m\u001b[1;33m\u001b[0m\u001b[1;33m\u001b[0m\u001b[0m\n\u001b[0m",
      "\u001b[1;31mValueError\u001b[0m: Data has duplicates"
     ]
    }
   ],
   "source": [
    "#Check for duplicates\n",
    "if airline.count() > airline.dropDuplicates().count():\n",
    "    raise ValueError('Data has duplicates')"
   ]
  },
  {
   "cell_type": "code",
   "execution_count": null,
   "id": "6db4c4af",
   "metadata": {},
   "outputs": [],
   "source": [
    "#Remove duplicates and check again\n",
    "airline = airline.dropDuplicates()\n",
    "if airline.count() > airline.dropDuplicates().count():\n",
    "    raise ValueError('Data has duplicates')"
   ]
  },
  {
   "cell_type": "code",
   "execution_count": 45,
   "id": "f70730ce",
   "metadata": {},
   "outputs": [],
   "source": [
    "#Drop Na's\n",
    "airline = airline.dropna(subset=['AirTime'])"
   ]
  },
  {
   "cell_type": "code",
   "execution_count": 46,
   "id": "8b044884",
   "metadata": {},
   "outputs": [
    {
     "name": "stdout",
     "output_type": "stream",
     "text": [
      "0\n"
     ]
    }
   ],
   "source": [
    "#Check again\n",
    "print(airline.filter(df['AirTime'].isNull()).count())"
   ]
  },
  {
   "cell_type": "code",
   "execution_count": 47,
   "id": "93a426ba",
   "metadata": {},
   "outputs": [
    {
     "name": "stdout",
     "output_type": "stream",
     "text": [
      "+-------+------+-----+------------------+------------------+\n",
      "|summary|Origin| Dest|           AirTime|          Distance|\n",
      "+-------+------+-----+------------------+------------------+\n",
      "|  count| 39472|39472|             39472|             39472|\n",
      "|   mean|  null| null|105.83902513173895|170.32982873935956|\n",
      "| stddev|  null| null| 68.87758149384463| 110.8519283000743|\n",
      "|    min|   ABE|  ABE|              -686|           -1104.0|\n",
      "|    max|   YUM|  YUM|               614|             988.0|\n",
      "+-------+------+-----+------------------+------------------+\n",
      "\n"
     ]
    }
   ],
   "source": [
    "airline.describe().show()"
   ]
  },
  {
   "cell_type": "code",
   "execution_count": 48,
   "id": "3f185932",
   "metadata": {},
   "outputs": [
    {
     "name": "stdout",
     "output_type": "stream",
     "text": [
      "+-------+------+-----+-----------------+------------------+\n",
      "|summary|Origin| Dest|          AirTime|          Distance|\n",
      "+-------+------+-----+-----------------+------------------+\n",
      "|  count| 39470|39470|            39470|             39470|\n",
      "|   mean|  null| null|105.8617684317203|170.36643020015202|\n",
      "| stddev|  null| null| 68.7618439483023|110.66567750050308|\n",
      "|    min|   ABE|  ABE|                1|               2.0|\n",
      "|    max|   YUM|  YUM|              614|             988.0|\n",
      "+-------+------+-----+-----------------+------------------+\n",
      "\n"
     ]
    }
   ],
   "source": [
    "#Data cannot be negative so let's remove those values #It also appears to be the same row\n",
    "airline = airline.filter('AirTime > 0')\n",
    "airline.describe().show()"
   ]
  },
  {
   "cell_type": "code",
   "execution_count": 49,
   "id": "3bb09b9a",
   "metadata": {},
   "outputs": [
    {
     "data": {
      "image/png": "[encoded data removed]",
      "text/plain": [
       "<Figure size 432x288 with 2 Axes>"
      ]
     },
     "metadata": {
      "needs_background": "light"
     },
     "output_type": "display_data"
    }
   ],
   "source": [
    "#Let's take a sample of our data and view the distribution of our variables\n",
    "distribution_df = airline.sample(False, 0.3, seed=10).toPandas()\n",
    "\n",
    "#View data distribution in subplots\n",
    "fig, axes = plt.subplots(2, 1)\n",
    "sns.boxplot(data=distribution_df, x='AirTime', ax=axes[0])\n",
    "sns.boxplot(data=distribution_df, x='Distance', ax=axes[1])\n",
    "fig.suptitle('Data Distribution')\n",
    "plt.tight_layout()\n",
    "plt.show()\n",
    "#Our data seems to have a lot of outliers so standardization over normalization is better"
   ]
  },
  {
   "cell_type": "markdown",
   "id": "0a9d827a",
   "metadata": {},
   "source": [
    "### b) Prepare data for ML, create KMeans Object and fit them our Flights Data."
   ]
  },
  {
   "cell_type": "code",
   "execution_count": 50,
   "id": "c1ef270f",
   "metadata": {},
   "outputs": [],
   "source": [
    "#Instantiate preprocessors\n",
    "vec_assembler = VectorAssembler(inputCols=['AirTime', 'Distance'], outputCol='features')\n",
    "scaler = StandardScaler(inputCol='features', outputCol='features_scaled')"
   ]
  },
  {
   "cell_type": "code",
   "execution_count": 51,
   "id": "d8fcc58b",
   "metadata": {},
   "outputs": [],
   "source": [
    "#Instantiate KMeans Object\n",
    "km = KMeans(featuresCol = 'features_scaled', predictionCol = 'prediction', k = 5, seed=1)\n",
    "#Instantiate Pipeline Object\n",
    "km_pipeline = Pipeline(stages=[vec_assembler, scaler, km])"
   ]
  },
  {
   "cell_type": "code",
   "execution_count": 52,
   "id": "14db9bf8",
   "metadata": {},
   "outputs": [
    {
     "data": {
      "text/plain": [
       "0.7167943363348167"
      ]
     },
     "execution_count": 52,
     "metadata": {},
     "output_type": "execute_result"
    }
   ],
   "source": [
    "#Fit Model and Score\n",
    "km_model = km_pipeline.fit(airline)\n",
    "\n",
    "#Score\n",
    "predictions = km_model.transform(airline)\n",
    "km_evaluator = ClusteringEvaluator()\n",
    "#Get Silhouette Score \n",
    "km_evaluator.evaluate(predictions)"
   ]
  },
  {
   "cell_type": "markdown",
   "id": "383ad774",
   "metadata": {},
   "source": [
    "### c) Optimize our model using hyperparameter tuning."
   ]
  },
  {
   "cell_type": "code",
   "execution_count": 53,
   "id": "0d974a09",
   "metadata": {},
   "outputs": [],
   "source": [
    "#Optimize our model using hyperparameter tuning\n",
    "\n",
    "#Build Param Grid\n",
    "grid = tune.ParamGridBuilder()\n",
    "grid = grid.addGrid(km.k, [3, 4, 5, 6, 7])\n",
    "grid = grid.build()\n",
    "\n",
    "#Instantiate Cross-Validator\n",
    "cv = tune.CrossValidator(estimator=km_pipeline, estimatorParamMaps=grid, evaluator=km_evaluator, numFolds=4)\n",
    "\n"
   ]
  },
  {
   "cell_type": "code",
   "execution_count": 54,
   "id": "297762f8",
   "metadata": {},
   "outputs": [],
   "source": [
    "#Fit model & extract best model\n",
    "models = cv.fit(airline)\n",
    "best_model = models.bestModel"
   ]
  },
  {
   "cell_type": "code",
   "execution_count": 55,
   "id": "d6e60b8c",
   "metadata": {},
   "outputs": [
    {
     "name": "stdout",
     "output_type": "stream",
     "text": [
      "KMeansModel: uid=KMeans_bf7cc302aeda, k=3, distanceMeasure=euclidean, numFeatures=2\n",
      "Best Silhouette Score: 0.7560161229210949\n"
     ]
    }
   ],
   "source": [
    "print(best_model.stages[2])\n",
    "#Use info from above to index model's best score\n",
    "print('Best Silhouette Score:', models.avgMetrics[0])"
   ]
  },
  {
   "cell_type": "markdown",
   "id": "1ec8aae8",
   "metadata": {},
   "source": [
    "### d) Visualize our clusters."
   ]
  },
  {
   "cell_type": "code",
   "execution_count": 56,
   "id": "1f065649",
   "metadata": {},
   "outputs": [
    {
     "data": {
      "image/png": "[encoded data removed]",
      "text/plain": [
       "<Figure size 432x288 with 1 Axes>"
      ]
     },
     "metadata": {
      "needs_background": "light"
     },
     "output_type": "display_data"
    }
   ],
   "source": [
    "#Retrieve centroids and convert to numpy array\n",
    "cluster_centers = np.array(best_model.stages[2].clusterCenters())\n",
    "predictions = best_model.transform(airline)\n",
    "predictions = predictions.select('features_scaled','prediction')\n",
    "\n",
    "#Data is large so we will sample 1%\n",
    "cluster_df = predictions.sample(False, 0.01, seed=10).toPandas()\n",
    "\n",
    "#Must retrieve datapoints in scaled (as centroids are scaled)\n",
    "cluster_df['AirTime_scaled'] = [x[0] for x in cluster_df.features_scaled]\n",
    "cluster_df['Distance_scaled'] = [x[1] for x in cluster_df.features_scaled]\n",
    "\n",
    "#Plot Clusters with Centroid Markers\n",
    "sns.scatterplot(data=cluster_df, x='AirTime_scaled', y='Distance_scaled', hue='prediction')\n",
    "sns.scatterplot(x=cluster_centers[:,0], y=cluster_centers[:, 1], marker='X', s=400)\n",
    "plt.title('Clusters')\n",
    "plt.show()"
   ]
  },
  {
   "cell_type": "code",
   "execution_count": null,
   "id": "75f5d245",
   "metadata": {},
   "outputs": [],
   "source": [
    "#Export new csv & close sparksession\n",
    "airline.write.csv(\"Data/airline.csv\")"
   ]
  },
  {
   "cell_type": "markdown",
   "id": "0eac6761",
   "metadata": {},
   "source": [
    "### e) Push our predictions dataframe into a mySQL database."
   ]
  },
  {
   "cell_type": "code",
   "execution_count": null,
   "id": "9e288e09",
   "metadata": {},
   "outputs": [],
   "source": [
    "#Instantiate SQL Cursor\n",
    "conn_object = mysql.connector.connect(host='localhost', user='root', password='')\n",
    "cursor = conn_object.cursor()\n",
    "\n",
    "#Use Cursor to create a DB in mySQL #In Try/Except statement for re-running of code\n",
    "try:\n",
    "    cursor.execute(\"CREATE DATABASE flights\")\n",
    "except:\n",
    "    cursor.execute(\"DROP DATABASE flights\")\n",
    "    cursor.execute(\"CREATE DATABASE flights\")"
   ]
  },
  {
   "cell_type": "code",
   "execution_count": null,
   "id": "0ed188cf",
   "metadata": {},
   "outputs": [],
   "source": [
    "#Instantiate New Spark Session Configured for mySQL\n",
    "spark = SparkSession.builder.config(\"spark.jars\", \"mysql-connector-java-8.0.28.jar\").master(\"local[*]\").appName('flights_mysql').getOrCreate()"
   ]
  },
  {
   "cell_type": "code",
   "execution_count": null,
   "id": "5f8792e2",
   "metadata": {},
   "outputs": [],
   "source": [
    "airline.write.format('jdbc').options(\n",
    "      url='jdbc:mysql://localhost:3306/flights',\n",
    "      driver='com.mysql.jdbc.Driver',\n",
    "      dbtable='Airline',\n",
    "      user='root',\n",
    "      password='').mode('append').save()"
   ]
  }
 ],
 "metadata": {
  "kernelspec": {
   "display_name": "Python 3 (ipykernel)",
   "language": "python",
   "name": "python3"
  },
  "language_info": {
   "codemirror_mode": {
    "name": "ipython",
    "version": 3
   },
   "file_extension": ".py",
   "mimetype": "text/x-python",
   "name": "python",
   "nbconvert_exporter": "python",
   "pygments_lexer": "ipython3",
   "version": "3.9.7"
  }
 },
 "nbformat": 4,
 "nbformat_minor": 5
}
