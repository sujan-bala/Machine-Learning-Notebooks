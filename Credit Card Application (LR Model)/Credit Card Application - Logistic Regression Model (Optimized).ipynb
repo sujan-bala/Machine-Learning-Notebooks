{
 "cells": [
  {
   "cell_type": "markdown",
   "id": "ce5ff7c6",
   "metadata": {},
   "source": [
    "## Credit Card Application Approvals\n",
    "<p>We'll use the <a href=\"http://archive.ics.uci.edu/ml/datasets/credit+approval\">Credit Card Approval dataset</a> from the UCI Machine Learning Repository. \n",
    "    \n",
    "The Approach:\n",
    "<li>Import libraries, load and view the dataset, ensure correct datatypes, convert ?/blanks/etc. into nan, and run basic exploratory analysis (statistics, pairplot, other plots) </li>\n",
    "<li>Use isloation random forest algorithm (an ensemble algorithm) & Score </li>\n",
    "<li>Use Local Outlier Factor Algorithm </li>\n",
    "<li>Hyperparameter tuning.</li>\n",
    "<li>Build ML Pipeline.</li>\n",
    "</ul>"
   ]
  },
  {
   "cell_type": "markdown",
   "id": "26a796c0",
   "metadata": {},
   "source": [
    "## Initial Data Import\n",
    "<li>Load and view the dataset, ensure correct datatypes, and run basic exploratory analysis (statistics, pairplot, other plots) </li>"
   ]
  },
  {
   "cell_type": "code",
   "execution_count": 43,
   "id": "21b468b7",
   "metadata": {},
   "outputs": [],
   "source": [
    "#Parsing, loading, analyzing data\n",
    "import pandas as pd\n",
    "import numpy as np\n",
    "from sklearn.model_selection import train_test_split\n",
    "#Statistical Analysis\n",
    "from scipy.stats import ttest_ind, chi2_contingency\n",
    "#Plotting\n",
    "import seaborn as sns\n",
    "from matplotlib import pyplot as plt\n",
    "#Preprocessing & ML\n",
    "from sklearn.preprocessing import OneHotEncoder\n",
    "from sklearn.preprocessing import StandardScaler\n",
    "from sklearn.linear_model import LogisticRegression\n",
    "from sklearn.metrics import confusion_matrix\n",
    "from sklearn.model_selection import GridSearchCV\n",
    "#Pipelining\n",
    "from sklearn.compose import ColumnTransformer\n",
    "from sklearn.impute import SimpleImputer\n",
    "from sklearn.pipeline import Pipeline"
   ]
  },
  {
   "cell_type": "code",
   "execution_count": 2,
   "id": "9ba3ffd7",
   "metadata": {},
   "outputs": [
    {
     "data": {
      "text/html": [
       "<div>\n",
       "<style scoped>\n",
       "    .dataframe tbody tr th:only-of-type {\n",
       "        vertical-align: middle;\n",
       "    }\n",
       "\n",
       "    .dataframe tbody tr th {\n",
       "        vertical-align: top;\n",
       "    }\n",
       "\n",
       "    .dataframe thead th {\n",
       "        text-align: right;\n",
       "    }\n",
       "</style>\n",
       "<table border=\"1\" class=\"dataframe\">\n",
       "  <thead>\n",
       "    <tr style=\"text-align: right;\">\n",
       "      <th></th>\n",
       "      <th>0</th>\n",
       "      <th>1</th>\n",
       "      <th>2</th>\n",
       "      <th>3</th>\n",
       "      <th>4</th>\n",
       "      <th>5</th>\n",
       "      <th>6</th>\n",
       "      <th>7</th>\n",
       "      <th>8</th>\n",
       "      <th>9</th>\n",
       "      <th>10</th>\n",
       "      <th>11</th>\n",
       "      <th>12</th>\n",
       "      <th>13</th>\n",
       "      <th>14</th>\n",
       "      <th>15</th>\n",
       "    </tr>\n",
       "  </thead>\n",
       "  <tbody>\n",
       "    <tr>\n",
       "      <th>0</th>\n",
       "      <td>b</td>\n",
       "      <td>30.83</td>\n",
       "      <td>0.000</td>\n",
       "      <td>u</td>\n",
       "      <td>g</td>\n",
       "      <td>w</td>\n",
       "      <td>v</td>\n",
       "      <td>1.25</td>\n",
       "      <td>t</td>\n",
       "      <td>t</td>\n",
       "      <td>1</td>\n",
       "      <td>f</td>\n",
       "      <td>g</td>\n",
       "      <td>00202</td>\n",
       "      <td>0</td>\n",
       "      <td>+</td>\n",
       "    </tr>\n",
       "    <tr>\n",
       "      <th>1</th>\n",
       "      <td>a</td>\n",
       "      <td>58.67</td>\n",
       "      <td>4.460</td>\n",
       "      <td>u</td>\n",
       "      <td>g</td>\n",
       "      <td>q</td>\n",
       "      <td>h</td>\n",
       "      <td>3.04</td>\n",
       "      <td>t</td>\n",
       "      <td>t</td>\n",
       "      <td>6</td>\n",
       "      <td>f</td>\n",
       "      <td>g</td>\n",
       "      <td>00043</td>\n",
       "      <td>560</td>\n",
       "      <td>+</td>\n",
       "    </tr>\n",
       "    <tr>\n",
       "      <th>2</th>\n",
       "      <td>a</td>\n",
       "      <td>24.50</td>\n",
       "      <td>0.500</td>\n",
       "      <td>u</td>\n",
       "      <td>g</td>\n",
       "      <td>q</td>\n",
       "      <td>h</td>\n",
       "      <td>1.50</td>\n",
       "      <td>t</td>\n",
       "      <td>f</td>\n",
       "      <td>0</td>\n",
       "      <td>f</td>\n",
       "      <td>g</td>\n",
       "      <td>00280</td>\n",
       "      <td>824</td>\n",
       "      <td>+</td>\n",
       "    </tr>\n",
       "    <tr>\n",
       "      <th>3</th>\n",
       "      <td>b</td>\n",
       "      <td>27.83</td>\n",
       "      <td>1.540</td>\n",
       "      <td>u</td>\n",
       "      <td>g</td>\n",
       "      <td>w</td>\n",
       "      <td>v</td>\n",
       "      <td>3.75</td>\n",
       "      <td>t</td>\n",
       "      <td>t</td>\n",
       "      <td>5</td>\n",
       "      <td>t</td>\n",
       "      <td>g</td>\n",
       "      <td>00100</td>\n",
       "      <td>3</td>\n",
       "      <td>+</td>\n",
       "    </tr>\n",
       "    <tr>\n",
       "      <th>4</th>\n",
       "      <td>b</td>\n",
       "      <td>20.17</td>\n",
       "      <td>5.625</td>\n",
       "      <td>u</td>\n",
       "      <td>g</td>\n",
       "      <td>w</td>\n",
       "      <td>v</td>\n",
       "      <td>1.71</td>\n",
       "      <td>t</td>\n",
       "      <td>f</td>\n",
       "      <td>0</td>\n",
       "      <td>f</td>\n",
       "      <td>s</td>\n",
       "      <td>00120</td>\n",
       "      <td>0</td>\n",
       "      <td>+</td>\n",
       "    </tr>\n",
       "  </tbody>\n",
       "</table>\n",
       "</div>"
      ],
      "text/plain": [
       "  0      1      2  3  4  5  6     7  8  9   10 11 12     13   14 15\n",
       "0  b  30.83  0.000  u  g  w  v  1.25  t  t   1  f  g  00202    0  +\n",
       "1  a  58.67  4.460  u  g  q  h  3.04  t  t   6  f  g  00043  560  +\n",
       "2  a  24.50  0.500  u  g  q  h  1.50  t  f   0  f  g  00280  824  +\n",
       "3  b  27.83  1.540  u  g  w  v  3.75  t  t   5  t  g  00100    3  +\n",
       "4  b  20.17  5.625  u  g  w  v  1.71  t  f   0  f  s  00120    0  +"
      ]
     },
     "execution_count": 2,
     "metadata": {},
     "output_type": "execute_result"
    }
   ],
   "source": [
    "cc_df = pd.read_csv('cc_approvals.data', header=None)\n",
    "cc_df.head()"
   ]
  },
  {
   "cell_type": "code",
   "execution_count": 3,
   "id": "48523d24",
   "metadata": {},
   "outputs": [
    {
     "data": {
      "text/html": [
       "<div>\n",
       "<style scoped>\n",
       "    .dataframe tbody tr th:only-of-type {\n",
       "        vertical-align: middle;\n",
       "    }\n",
       "\n",
       "    .dataframe tbody tr th {\n",
       "        vertical-align: top;\n",
       "    }\n",
       "\n",
       "    .dataframe thead th {\n",
       "        text-align: right;\n",
       "    }\n",
       "</style>\n",
       "<table border=\"1\" class=\"dataframe\">\n",
       "  <thead>\n",
       "    <tr style=\"text-align: right;\">\n",
       "      <th></th>\n",
       "      <th>Gender</th>\n",
       "      <th>Age</th>\n",
       "      <th>Debt</th>\n",
       "      <th>Married</th>\n",
       "      <th>BankCustomer</th>\n",
       "      <th>EducationLevel</th>\n",
       "      <th>Ethnicity</th>\n",
       "      <th>YearsEmployed</th>\n",
       "      <th>PriorDefault</th>\n",
       "      <th>Employed</th>\n",
       "      <th>CreditScore</th>\n",
       "      <th>DriversLicense</th>\n",
       "      <th>Citizen</th>\n",
       "      <th>ZipCode</th>\n",
       "      <th>Income</th>\n",
       "      <th>ApprovalStatus</th>\n",
       "    </tr>\n",
       "  </thead>\n",
       "  <tbody>\n",
       "    <tr>\n",
       "      <th>0</th>\n",
       "      <td>b</td>\n",
       "      <td>30.83</td>\n",
       "      <td>0.000</td>\n",
       "      <td>u</td>\n",
       "      <td>g</td>\n",
       "      <td>w</td>\n",
       "      <td>v</td>\n",
       "      <td>1.25</td>\n",
       "      <td>t</td>\n",
       "      <td>t</td>\n",
       "      <td>1</td>\n",
       "      <td>f</td>\n",
       "      <td>g</td>\n",
       "      <td>00202</td>\n",
       "      <td>0</td>\n",
       "      <td>+</td>\n",
       "    </tr>\n",
       "    <tr>\n",
       "      <th>1</th>\n",
       "      <td>a</td>\n",
       "      <td>58.67</td>\n",
       "      <td>4.460</td>\n",
       "      <td>u</td>\n",
       "      <td>g</td>\n",
       "      <td>q</td>\n",
       "      <td>h</td>\n",
       "      <td>3.04</td>\n",
       "      <td>t</td>\n",
       "      <td>t</td>\n",
       "      <td>6</td>\n",
       "      <td>f</td>\n",
       "      <td>g</td>\n",
       "      <td>00043</td>\n",
       "      <td>560</td>\n",
       "      <td>+</td>\n",
       "    </tr>\n",
       "    <tr>\n",
       "      <th>2</th>\n",
       "      <td>a</td>\n",
       "      <td>24.50</td>\n",
       "      <td>0.500</td>\n",
       "      <td>u</td>\n",
       "      <td>g</td>\n",
       "      <td>q</td>\n",
       "      <td>h</td>\n",
       "      <td>1.50</td>\n",
       "      <td>t</td>\n",
       "      <td>f</td>\n",
       "      <td>0</td>\n",
       "      <td>f</td>\n",
       "      <td>g</td>\n",
       "      <td>00280</td>\n",
       "      <td>824</td>\n",
       "      <td>+</td>\n",
       "    </tr>\n",
       "    <tr>\n",
       "      <th>3</th>\n",
       "      <td>b</td>\n",
       "      <td>27.83</td>\n",
       "      <td>1.540</td>\n",
       "      <td>u</td>\n",
       "      <td>g</td>\n",
       "      <td>w</td>\n",
       "      <td>v</td>\n",
       "      <td>3.75</td>\n",
       "      <td>t</td>\n",
       "      <td>t</td>\n",
       "      <td>5</td>\n",
       "      <td>t</td>\n",
       "      <td>g</td>\n",
       "      <td>00100</td>\n",
       "      <td>3</td>\n",
       "      <td>+</td>\n",
       "    </tr>\n",
       "    <tr>\n",
       "      <th>4</th>\n",
       "      <td>b</td>\n",
       "      <td>20.17</td>\n",
       "      <td>5.625</td>\n",
       "      <td>u</td>\n",
       "      <td>g</td>\n",
       "      <td>w</td>\n",
       "      <td>v</td>\n",
       "      <td>1.71</td>\n",
       "      <td>t</td>\n",
       "      <td>f</td>\n",
       "      <td>0</td>\n",
       "      <td>f</td>\n",
       "      <td>s</td>\n",
       "      <td>00120</td>\n",
       "      <td>0</td>\n",
       "      <td>+</td>\n",
       "    </tr>\n",
       "  </tbody>\n",
       "</table>\n",
       "</div>"
      ],
      "text/plain": [
       "  Gender    Age   Debt Married BankCustomer EducationLevel Ethnicity  \\\n",
       "0      b  30.83  0.000       u            g              w         v   \n",
       "1      a  58.67  4.460       u            g              q         h   \n",
       "2      a  24.50  0.500       u            g              q         h   \n",
       "3      b  27.83  1.540       u            g              w         v   \n",
       "4      b  20.17  5.625       u            g              w         v   \n",
       "\n",
       "   YearsEmployed PriorDefault Employed  CreditScore DriversLicense Citizen  \\\n",
       "0           1.25            t        t            1              f       g   \n",
       "1           3.04            t        t            6              f       g   \n",
       "2           1.50            t        f            0              f       g   \n",
       "3           3.75            t        t            5              t       g   \n",
       "4           1.71            t        f            0              f       s   \n",
       "\n",
       "  ZipCode  Income ApprovalStatus  \n",
       "0   00202       0              +  \n",
       "1   00043     560              +  \n",
       "2   00280     824              +  \n",
       "3   00100       3              +  \n",
       "4   00120       0              +  "
      ]
     },
     "execution_count": 3,
     "metadata": {},
     "output_type": "execute_result"
    }
   ],
   "source": [
    "cols = ['Gender', 'Age', 'Debt', 'Married', 'BankCustomer', 'EducationLevel', 'Ethnicity', 'YearsEmployed', 'PriorDefault', 'Employed', 'CreditScore', 'DriversLicense', 'Citizen', 'ZipCode', 'Income', 'ApprovalStatus']\n",
    "cc_df.columns = cols\n",
    "cc_df.head()"
   ]
  },
  {
   "cell_type": "code",
   "execution_count": 4,
   "id": "51cb3cc8",
   "metadata": {},
   "outputs": [
    {
     "data": {
      "text/plain": [
       "(690, 16)"
      ]
     },
     "execution_count": 4,
     "metadata": {},
     "output_type": "execute_result"
    }
   ],
   "source": [
    "cc_df.shape"
   ]
  },
  {
   "cell_type": "code",
   "execution_count": 5,
   "id": "5b16d747",
   "metadata": {},
   "outputs": [],
   "source": [
    "#Check NaN entries (if '?' etc., convert to nan)\n",
    "cc_df.replace('?', np.nan, inplace=True)\n",
    "cc_df.ZipCode.replace('00000', np.nan, inplace=True)"
   ]
  },
  {
   "cell_type": "code",
   "execution_count": 6,
   "id": "8c32633a",
   "metadata": {},
   "outputs": [
    {
     "data": {
      "text/plain": [
       "Gender             object\n",
       "Age                object\n",
       "Debt              float64\n",
       "Married            object\n",
       "BankCustomer       object\n",
       "EducationLevel     object\n",
       "Ethnicity          object\n",
       "YearsEmployed     float64\n",
       "PriorDefault       object\n",
       "Employed           object\n",
       "CreditScore         int64\n",
       "DriversLicense     object\n",
       "Citizen            object\n",
       "ZipCode            object\n",
       "Income              int64\n",
       "ApprovalStatus     object\n",
       "dtype: object"
      ]
     },
     "execution_count": 6,
     "metadata": {},
     "output_type": "execute_result"
    }
   ],
   "source": [
    "cc_df.dtypes"
   ]
  },
  {
   "cell_type": "code",
   "execution_count": 7,
   "id": "0fae3687",
   "metadata": {},
   "outputs": [
    {
     "data": {
      "text/plain": [
       "Gender             object\n",
       "Age               float64\n",
       "Debt              float64\n",
       "Married            object\n",
       "BankCustomer       object\n",
       "EducationLevel     object\n",
       "Ethnicity          object\n",
       "YearsEmployed     float64\n",
       "PriorDefault       object\n",
       "Employed           object\n",
       "CreditScore         int64\n",
       "DriversLicense     object\n",
       "Citizen            object\n",
       "ZipCode            object\n",
       "Income              int64\n",
       "ApprovalStatus     object\n",
       "dtype: object"
      ]
     },
     "execution_count": 7,
     "metadata": {},
     "output_type": "execute_result"
    }
   ],
   "source": [
    "cc_df['Age'] = pd.to_numeric(cc_df['Age'])\n",
    "cc_df.dtypes"
   ]
  },
  {
   "cell_type": "code",
   "execution_count": 8,
   "id": "c497eadc",
   "metadata": {},
   "outputs": [
    {
     "data": {
      "image/png": "[encoded data removed]",
      "text/plain": [
       "<Figure size 983.875x900 with 30 Axes>"
      ]
     },
     "metadata": {
      "needs_background": "light"
     },
     "output_type": "display_data"
    }
   ],
   "source": [
    "#Exploratory Data Analysis\n",
    "sns.pairplot(cc_df, hue='ApprovalStatus')\n",
    "plt.show()"
   ]
  },
  {
   "cell_type": "code",
   "execution_count": 9,
   "id": "a8437da0",
   "metadata": {},
   "outputs": [
    {
     "data": {
      "text/plain": [
       "<AxesSubplot:xlabel='ApprovalStatus', ylabel='Income'>"
      ]
     },
     "execution_count": 9,
     "metadata": {},
     "output_type": "execute_result"
    },
    {
     "data": {
      "image/png": "[encoded data removed]",
      "text/plain": [
       "<Figure size 432x288 with 1 Axes>"
      ]
     },
     "metadata": {
      "needs_background": "light"
     },
     "output_type": "display_data"
    }
   ],
   "source": [
    "#The income feature is hard to visualize, so we'll take another look zoomed in\n",
    "plot_df = cc_df\n",
    "plot_df = plot_df[plot_df.Income < 1500]\n",
    "sns.boxplot(data=plot_df, x='ApprovalStatus', y='Income')"
   ]
  },
  {
   "cell_type": "code",
   "execution_count": 10,
   "id": "17408f89",
   "metadata": {},
   "outputs": [
    {
     "data": {
      "text/html": [
       "<div>\n",
       "<style scoped>\n",
       "    .dataframe tbody tr th:only-of-type {\n",
       "        vertical-align: middle;\n",
       "    }\n",
       "\n",
       "    .dataframe tbody tr th {\n",
       "        vertical-align: top;\n",
       "    }\n",
       "\n",
       "    .dataframe thead th {\n",
       "        text-align: right;\n",
       "    }\n",
       "</style>\n",
       "<table border=\"1\" class=\"dataframe\">\n",
       "  <thead>\n",
       "    <tr style=\"text-align: right;\">\n",
       "      <th></th>\n",
       "      <th>Gender</th>\n",
       "      <th>Age</th>\n",
       "      <th>Debt</th>\n",
       "      <th>Married</th>\n",
       "      <th>BankCustomer</th>\n",
       "      <th>EducationLevel</th>\n",
       "      <th>Ethnicity</th>\n",
       "      <th>YearsEmployed</th>\n",
       "      <th>PriorDefault</th>\n",
       "      <th>Employed</th>\n",
       "      <th>CreditScore</th>\n",
       "      <th>DriversLicense</th>\n",
       "      <th>Citizen</th>\n",
       "      <th>ZipCode</th>\n",
       "      <th>Income</th>\n",
       "      <th>ApprovalStatus</th>\n",
       "    </tr>\n",
       "  </thead>\n",
       "  <tbody>\n",
       "    <tr>\n",
       "      <th>count</th>\n",
       "      <td>678</td>\n",
       "      <td>678.000000</td>\n",
       "      <td>690.000000</td>\n",
       "      <td>684</td>\n",
       "      <td>684</td>\n",
       "      <td>681</td>\n",
       "      <td>681</td>\n",
       "      <td>690.000000</td>\n",
       "      <td>690</td>\n",
       "      <td>690</td>\n",
       "      <td>690.00000</td>\n",
       "      <td>690</td>\n",
       "      <td>690</td>\n",
       "      <td>545</td>\n",
       "      <td>690.000000</td>\n",
       "      <td>690</td>\n",
       "    </tr>\n",
       "    <tr>\n",
       "      <th>unique</th>\n",
       "      <td>2</td>\n",
       "      <td>NaN</td>\n",
       "      <td>NaN</td>\n",
       "      <td>3</td>\n",
       "      <td>3</td>\n",
       "      <td>14</td>\n",
       "      <td>9</td>\n",
       "      <td>NaN</td>\n",
       "      <td>2</td>\n",
       "      <td>2</td>\n",
       "      <td>NaN</td>\n",
       "      <td>2</td>\n",
       "      <td>3</td>\n",
       "      <td>169</td>\n",
       "      <td>NaN</td>\n",
       "      <td>2</td>\n",
       "    </tr>\n",
       "    <tr>\n",
       "      <th>top</th>\n",
       "      <td>b</td>\n",
       "      <td>NaN</td>\n",
       "      <td>NaN</td>\n",
       "      <td>u</td>\n",
       "      <td>g</td>\n",
       "      <td>c</td>\n",
       "      <td>v</td>\n",
       "      <td>NaN</td>\n",
       "      <td>t</td>\n",
       "      <td>f</td>\n",
       "      <td>NaN</td>\n",
       "      <td>f</td>\n",
       "      <td>g</td>\n",
       "      <td>00200</td>\n",
       "      <td>NaN</td>\n",
       "      <td>-</td>\n",
       "    </tr>\n",
       "    <tr>\n",
       "      <th>freq</th>\n",
       "      <td>468</td>\n",
       "      <td>NaN</td>\n",
       "      <td>NaN</td>\n",
       "      <td>519</td>\n",
       "      <td>519</td>\n",
       "      <td>137</td>\n",
       "      <td>399</td>\n",
       "      <td>NaN</td>\n",
       "      <td>361</td>\n",
       "      <td>395</td>\n",
       "      <td>NaN</td>\n",
       "      <td>374</td>\n",
       "      <td>625</td>\n",
       "      <td>35</td>\n",
       "      <td>NaN</td>\n",
       "      <td>383</td>\n",
       "    </tr>\n",
       "    <tr>\n",
       "      <th>mean</th>\n",
       "      <td>NaN</td>\n",
       "      <td>31.568171</td>\n",
       "      <td>4.758725</td>\n",
       "      <td>NaN</td>\n",
       "      <td>NaN</td>\n",
       "      <td>NaN</td>\n",
       "      <td>NaN</td>\n",
       "      <td>2.223406</td>\n",
       "      <td>NaN</td>\n",
       "      <td>NaN</td>\n",
       "      <td>2.40000</td>\n",
       "      <td>NaN</td>\n",
       "      <td>NaN</td>\n",
       "      <td>NaN</td>\n",
       "      <td>1017.385507</td>\n",
       "      <td>NaN</td>\n",
       "    </tr>\n",
       "    <tr>\n",
       "      <th>std</th>\n",
       "      <td>NaN</td>\n",
       "      <td>11.957862</td>\n",
       "      <td>4.978163</td>\n",
       "      <td>NaN</td>\n",
       "      <td>NaN</td>\n",
       "      <td>NaN</td>\n",
       "      <td>NaN</td>\n",
       "      <td>3.346513</td>\n",
       "      <td>NaN</td>\n",
       "      <td>NaN</td>\n",
       "      <td>4.86294</td>\n",
       "      <td>NaN</td>\n",
       "      <td>NaN</td>\n",
       "      <td>NaN</td>\n",
       "      <td>5210.102598</td>\n",
       "      <td>NaN</td>\n",
       "    </tr>\n",
       "    <tr>\n",
       "      <th>min</th>\n",
       "      <td>NaN</td>\n",
       "      <td>13.750000</td>\n",
       "      <td>0.000000</td>\n",
       "      <td>NaN</td>\n",
       "      <td>NaN</td>\n",
       "      <td>NaN</td>\n",
       "      <td>NaN</td>\n",
       "      <td>0.000000</td>\n",
       "      <td>NaN</td>\n",
       "      <td>NaN</td>\n",
       "      <td>0.00000</td>\n",
       "      <td>NaN</td>\n",
       "      <td>NaN</td>\n",
       "      <td>NaN</td>\n",
       "      <td>0.000000</td>\n",
       "      <td>NaN</td>\n",
       "    </tr>\n",
       "    <tr>\n",
       "      <th>25%</th>\n",
       "      <td>NaN</td>\n",
       "      <td>22.602500</td>\n",
       "      <td>1.000000</td>\n",
       "      <td>NaN</td>\n",
       "      <td>NaN</td>\n",
       "      <td>NaN</td>\n",
       "      <td>NaN</td>\n",
       "      <td>0.165000</td>\n",
       "      <td>NaN</td>\n",
       "      <td>NaN</td>\n",
       "      <td>0.00000</td>\n",
       "      <td>NaN</td>\n",
       "      <td>NaN</td>\n",
       "      <td>NaN</td>\n",
       "      <td>0.000000</td>\n",
       "      <td>NaN</td>\n",
       "    </tr>\n",
       "    <tr>\n",
       "      <th>50%</th>\n",
       "      <td>NaN</td>\n",
       "      <td>28.460000</td>\n",
       "      <td>2.750000</td>\n",
       "      <td>NaN</td>\n",
       "      <td>NaN</td>\n",
       "      <td>NaN</td>\n",
       "      <td>NaN</td>\n",
       "      <td>1.000000</td>\n",
       "      <td>NaN</td>\n",
       "      <td>NaN</td>\n",
       "      <td>0.00000</td>\n",
       "      <td>NaN</td>\n",
       "      <td>NaN</td>\n",
       "      <td>NaN</td>\n",
       "      <td>5.000000</td>\n",
       "      <td>NaN</td>\n",
       "    </tr>\n",
       "    <tr>\n",
       "      <th>75%</th>\n",
       "      <td>NaN</td>\n",
       "      <td>38.230000</td>\n",
       "      <td>7.207500</td>\n",
       "      <td>NaN</td>\n",
       "      <td>NaN</td>\n",
       "      <td>NaN</td>\n",
       "      <td>NaN</td>\n",
       "      <td>2.625000</td>\n",
       "      <td>NaN</td>\n",
       "      <td>NaN</td>\n",
       "      <td>3.00000</td>\n",
       "      <td>NaN</td>\n",
       "      <td>NaN</td>\n",
       "      <td>NaN</td>\n",
       "      <td>395.500000</td>\n",
       "      <td>NaN</td>\n",
       "    </tr>\n",
       "    <tr>\n",
       "      <th>max</th>\n",
       "      <td>NaN</td>\n",
       "      <td>80.250000</td>\n",
       "      <td>28.000000</td>\n",
       "      <td>NaN</td>\n",
       "      <td>NaN</td>\n",
       "      <td>NaN</td>\n",
       "      <td>NaN</td>\n",
       "      <td>28.500000</td>\n",
       "      <td>NaN</td>\n",
       "      <td>NaN</td>\n",
       "      <td>67.00000</td>\n",
       "      <td>NaN</td>\n",
       "      <td>NaN</td>\n",
       "      <td>NaN</td>\n",
       "      <td>100000.000000</td>\n",
       "      <td>NaN</td>\n",
       "    </tr>\n",
       "  </tbody>\n",
       "</table>\n",
       "</div>"
      ],
      "text/plain": [
       "       Gender         Age        Debt Married BankCustomer EducationLevel  \\\n",
       "count     678  678.000000  690.000000     684          684            681   \n",
       "unique      2         NaN         NaN       3            3             14   \n",
       "top         b         NaN         NaN       u            g              c   \n",
       "freq      468         NaN         NaN     519          519            137   \n",
       "mean      NaN   31.568171    4.758725     NaN          NaN            NaN   \n",
       "std       NaN   11.957862    4.978163     NaN          NaN            NaN   \n",
       "min       NaN   13.750000    0.000000     NaN          NaN            NaN   \n",
       "25%       NaN   22.602500    1.000000     NaN          NaN            NaN   \n",
       "50%       NaN   28.460000    2.750000     NaN          NaN            NaN   \n",
       "75%       NaN   38.230000    7.207500     NaN          NaN            NaN   \n",
       "max       NaN   80.250000   28.000000     NaN          NaN            NaN   \n",
       "\n",
       "       Ethnicity  YearsEmployed PriorDefault Employed  CreditScore  \\\n",
       "count        681     690.000000          690      690    690.00000   \n",
       "unique         9            NaN            2        2          NaN   \n",
       "top            v            NaN            t        f          NaN   \n",
       "freq         399            NaN          361      395          NaN   \n",
       "mean         NaN       2.223406          NaN      NaN      2.40000   \n",
       "std          NaN       3.346513          NaN      NaN      4.86294   \n",
       "min          NaN       0.000000          NaN      NaN      0.00000   \n",
       "25%          NaN       0.165000          NaN      NaN      0.00000   \n",
       "50%          NaN       1.000000          NaN      NaN      0.00000   \n",
       "75%          NaN       2.625000          NaN      NaN      3.00000   \n",
       "max          NaN      28.500000          NaN      NaN     67.00000   \n",
       "\n",
       "       DriversLicense Citizen ZipCode         Income ApprovalStatus  \n",
       "count             690     690     545     690.000000            690  \n",
       "unique              2       3     169            NaN              2  \n",
       "top                 f       g   00200            NaN              -  \n",
       "freq              374     625      35            NaN            383  \n",
       "mean              NaN     NaN     NaN    1017.385507            NaN  \n",
       "std               NaN     NaN     NaN    5210.102598            NaN  \n",
       "min               NaN     NaN     NaN       0.000000            NaN  \n",
       "25%               NaN     NaN     NaN       0.000000            NaN  \n",
       "50%               NaN     NaN     NaN       5.000000            NaN  \n",
       "75%               NaN     NaN     NaN     395.500000            NaN  \n",
       "max               NaN     NaN     NaN  100000.000000            NaN  "
      ]
     },
     "execution_count": 10,
     "metadata": {},
     "output_type": "execute_result"
    }
   ],
   "source": [
    "#Basic Statistical Analysis of all features\n",
    "cc_df.describe(include='all')"
   ]
  },
  {
   "cell_type": "markdown",
   "id": "a7d83ce1",
   "metadata": {},
   "source": [
    "## Prepare Data\n",
    "<li>Split into Train/Test, Feature Selection using statistical analysis, impute/remove missing data points, OHE, and scaling.</li>\n"
   ]
  },
  {
   "cell_type": "code",
   "execution_count": 11,
   "id": "d2b949e8",
   "metadata": {},
   "outputs": [],
   "source": [
    "#Split Data\n",
    "train_data, test_data = train_test_split(cc_df, test_size=0.2, random_state=42)"
   ]
  },
  {
   "cell_type": "code",
   "execution_count": 12,
   "id": "d233c10d",
   "metadata": {},
   "outputs": [],
   "source": [
    "#Feature Selection - Statistical analysis (Between a numerical & categorical var\n",
    "def ttest_significance(df, numerical, threshold, binary_cat_var):\n",
    "    results = {}\n",
    "    filter_pos = cc_df[binary_cat_var] == '+'\n",
    "    filter_neg = cc_df[binary_cat_var] == '-'\n",
    "    for col in numerical:\n",
    "        t_stat, pval = ttest_ind(df[col][filter_pos], df[col][filter_neg], nan_policy='omit')\n",
    "        results[col] = pval\n",
    "    return [key for key, value in results.items() if value < threshold], results"
   ]
  },
  {
   "cell_type": "code",
   "execution_count": 13,
   "id": "14045b56",
   "metadata": {},
   "outputs": [
    {
     "data": {
      "text/html": [
       "<div>\n",
       "<style scoped>\n",
       "    .dataframe tbody tr th:only-of-type {\n",
       "        vertical-align: middle;\n",
       "    }\n",
       "\n",
       "    .dataframe tbody tr th {\n",
       "        vertical-align: top;\n",
       "    }\n",
       "\n",
       "    .dataframe thead th {\n",
       "        text-align: right;\n",
       "    }\n",
       "</style>\n",
       "<table border=\"1\" class=\"dataframe\">\n",
       "  <thead>\n",
       "    <tr style=\"text-align: right;\">\n",
       "      <th></th>\n",
       "      <th>Numerical Column</th>\n",
       "      <th>p_value</th>\n",
       "    </tr>\n",
       "  </thead>\n",
       "  <tbody>\n",
       "    <tr>\n",
       "      <th>0</th>\n",
       "      <td>Age</td>\n",
       "      <td>6.534643e-06</td>\n",
       "    </tr>\n",
       "    <tr>\n",
       "      <th>1</th>\n",
       "      <td>Debt</td>\n",
       "      <td>3.852977e-06</td>\n",
       "    </tr>\n",
       "    <tr>\n",
       "      <th>2</th>\n",
       "      <td>YearsEmployed</td>\n",
       "      <td>4.929122e-15</td>\n",
       "    </tr>\n",
       "    <tr>\n",
       "      <th>3</th>\n",
       "      <td>CreditScore</td>\n",
       "      <td>3.096529e-24</td>\n",
       "    </tr>\n",
       "    <tr>\n",
       "      <th>4</th>\n",
       "      <td>Income</td>\n",
       "      <td>2.371742e-05</td>\n",
       "    </tr>\n",
       "  </tbody>\n",
       "</table>\n",
       "</div>"
      ],
      "text/plain": [
       "  Numerical Column       p_value\n",
       "0              Age  6.534643e-06\n",
       "1             Debt  3.852977e-06\n",
       "2    YearsEmployed  4.929122e-15\n",
       "3      CreditScore  3.096529e-24\n",
       "4           Income  2.371742e-05"
      ]
     },
     "execution_count": 13,
     "metadata": {},
     "output_type": "execute_result"
    }
   ],
   "source": [
    "numerical = [col for col in cc_df.dtypes.index if cc_df.dtypes.loc[col] != 'object']\n",
    "\n",
    "selected, results = ttest_significance(train_data, numerical, 0.02, 'ApprovalStatus')\n",
    "results = pd.DataFrame(results.items(), columns=['Numerical Column', 'p_value'])\n",
    "results"
   ]
  },
  {
   "cell_type": "code",
   "execution_count": 14,
   "id": "d1aa84b2",
   "metadata": {},
   "outputs": [
    {
     "data": {
      "text/plain": [
       "['Age', 'Debt', 'YearsEmployed', 'CreditScore', 'Income']"
      ]
     },
     "execution_count": 14,
     "metadata": {},
     "output_type": "execute_result"
    }
   ],
   "source": [
    "#All numerical Variables make the cutoff\n",
    "selected"
   ]
  },
  {
   "cell_type": "code",
   "execution_count": 15,
   "id": "191bc1fa",
   "metadata": {},
   "outputs": [],
   "source": [
    "#Feature Selection - Statistical analysis (categorical & categorical)\n",
    "def chi2_significance(df, categorical_cols, threshold, cat_col):\n",
    "    results = {}\n",
    "    for col in categorical_cols:\n",
    "        contingency_table = pd.crosstab(df[col], df[cat_col])\n",
    "        chi_stat, p_val, dof, expected_table = chi2_contingency(contingency_table)\n",
    "        results[col] = p_val\n",
    "    return [key for key, value in results.items() if value < threshold], results"
   ]
  },
  {
   "cell_type": "code",
   "execution_count": 16,
   "id": "aa2944b4",
   "metadata": {},
   "outputs": [
    {
     "data": {
      "text/html": [
       "<div>\n",
       "<style scoped>\n",
       "    .dataframe tbody tr th:only-of-type {\n",
       "        vertical-align: middle;\n",
       "    }\n",
       "\n",
       "    .dataframe tbody tr th {\n",
       "        vertical-align: top;\n",
       "    }\n",
       "\n",
       "    .dataframe thead th {\n",
       "        text-align: right;\n",
       "    }\n",
       "</style>\n",
       "<table border=\"1\" class=\"dataframe\">\n",
       "  <thead>\n",
       "    <tr style=\"text-align: right;\">\n",
       "      <th></th>\n",
       "      <th>Categorical Column</th>\n",
       "      <th>p_val</th>\n",
       "    </tr>\n",
       "  </thead>\n",
       "  <tbody>\n",
       "    <tr>\n",
       "      <th>0</th>\n",
       "      <td>Gender</td>\n",
       "      <td>4.557974e-01</td>\n",
       "    </tr>\n",
       "    <tr>\n",
       "      <th>1</th>\n",
       "      <td>Married</td>\n",
       "      <td>1.410850e-05</td>\n",
       "    </tr>\n",
       "    <tr>\n",
       "      <th>2</th>\n",
       "      <td>BankCustomer</td>\n",
       "      <td>1.410850e-05</td>\n",
       "    </tr>\n",
       "    <tr>\n",
       "      <th>3</th>\n",
       "      <td>EducationLevel</td>\n",
       "      <td>1.815968e-12</td>\n",
       "    </tr>\n",
       "    <tr>\n",
       "      <th>4</th>\n",
       "      <td>Ethnicity</td>\n",
       "      <td>4.052656e-07</td>\n",
       "    </tr>\n",
       "    <tr>\n",
       "      <th>5</th>\n",
       "      <td>PriorDefault</td>\n",
       "      <td>2.552520e-66</td>\n",
       "    </tr>\n",
       "    <tr>\n",
       "      <th>6</th>\n",
       "      <td>Employed</td>\n",
       "      <td>7.663266e-27</td>\n",
       "    </tr>\n",
       "    <tr>\n",
       "      <th>7</th>\n",
       "      <td>DriversLicense</td>\n",
       "      <td>2.870409e-01</td>\n",
       "    </tr>\n",
       "    <tr>\n",
       "      <th>8</th>\n",
       "      <td>Citizen</td>\n",
       "      <td>1.099820e-02</td>\n",
       "    </tr>\n",
       "    <tr>\n",
       "      <th>9</th>\n",
       "      <td>ZipCode</td>\n",
       "      <td>3.011911e-02</td>\n",
       "    </tr>\n",
       "  </tbody>\n",
       "</table>\n",
       "</div>"
      ],
      "text/plain": [
       "  Categorical Column         p_val\n",
       "0             Gender  4.557974e-01\n",
       "1            Married  1.410850e-05\n",
       "2       BankCustomer  1.410850e-05\n",
       "3     EducationLevel  1.815968e-12\n",
       "4          Ethnicity  4.052656e-07\n",
       "5       PriorDefault  2.552520e-66\n",
       "6           Employed  7.663266e-27\n",
       "7     DriversLicense  2.870409e-01\n",
       "8            Citizen  1.099820e-02\n",
       "9            ZipCode  3.011911e-02"
      ]
     },
     "execution_count": 16,
     "metadata": {},
     "output_type": "execute_result"
    }
   ],
   "source": [
    "categorical = [col for col in cc_df.dtypes.index if cc_df.dtypes.loc[col] == 'object' and col != 'ApprovalStatus']\n",
    "\n",
    "selected, results = chi2_significance(train_data, categorical, 0.02, 'ApprovalStatus')\n",
    "results = pd.DataFrame(results.items(), columns=['Categorical Column', 'p_val'])\n",
    "results"
   ]
  },
  {
   "cell_type": "code",
   "execution_count": 17,
   "id": "5d2f19f1",
   "metadata": {},
   "outputs": [
    {
     "data": {
      "text/plain": [
       "['Married',\n",
       " 'BankCustomer',\n",
       " 'EducationLevel',\n",
       " 'Ethnicity',\n",
       " 'PriorDefault',\n",
       " 'Employed',\n",
       " 'Citizen']"
      ]
     },
     "execution_count": 17,
     "metadata": {},
     "output_type": "execute_result"
    }
   ],
   "source": [
    "#Gender, DriversLicense, ZipCode do not make the cutoff\n",
    "selected"
   ]
  },
  {
   "cell_type": "code",
   "execution_count": 18,
   "id": "7452380c",
   "metadata": {},
   "outputs": [
    {
     "name": "stderr",
     "output_type": "stream",
     "text": [
      "C:\\Users\\saisu\\anaconda3\\lib\\site-packages\\pandas\\core\\frame.py:4906: SettingWithCopyWarning: \n",
      "A value is trying to be set on a copy of a slice from a DataFrame\n",
      "\n",
      "See the caveats in the documentation: https://pandas.pydata.org/pandas-docs/stable/user_guide/indexing.html#returning-a-view-versus-a-copy\n",
      "  return super().drop(\n"
     ]
    }
   ],
   "source": [
    "#Finish Feature Selection by dropping columns\n",
    "train_data.drop(columns=['Gender', 'DriversLicense', 'ZipCode'], inplace=True)\n",
    "test_data.drop(columns=['Gender', 'DriversLicense', 'ZipCode'], inplace=True)"
   ]
  },
  {
   "cell_type": "code",
   "execution_count": 19,
   "id": "29824827",
   "metadata": {},
   "outputs": [
    {
     "data": {
      "text/plain": [
       "Age               9\n",
       "Debt              0\n",
       "Married           6\n",
       "BankCustomer      6\n",
       "EducationLevel    9\n",
       "Ethnicity         9\n",
       "YearsEmployed     0\n",
       "PriorDefault      0\n",
       "Employed          0\n",
       "CreditScore       0\n",
       "Citizen           0\n",
       "Income            0\n",
       "ApprovalStatus    0\n",
       "dtype: int64"
      ]
     },
     "execution_count": 19,
     "metadata": {},
     "output_type": "execute_result"
    }
   ],
   "source": [
    "#Check if there is missing data\n",
    "train_data.isna().sum()"
   ]
  },
  {
   "cell_type": "code",
   "execution_count": 20,
   "id": "67d45544",
   "metadata": {},
   "outputs": [],
   "source": [
    "#Custom function to impute categorical data using 'most frequent' approach\n",
    "def categorical_imputer(df):\n",
    "    cat_cols = [col for col in df.columns if df.dtypes.loc[col] == 'object']\n",
    "    for col in cat_cols:\n",
    "        most_freq = df[col].value_counts().index[0]\n",
    "        df[col].fillna(most_freq, inplace=True)\n",
    "    return df"
   ]
  },
  {
   "cell_type": "code",
   "execution_count": 21,
   "id": "75edeffc",
   "metadata": {},
   "outputs": [
    {
     "name": "stderr",
     "output_type": "stream",
     "text": [
      "C:\\Users\\saisu\\anaconda3\\lib\\site-packages\\pandas\\core\\generic.py:6392: SettingWithCopyWarning: \n",
      "A value is trying to be set on a copy of a slice from a DataFrame\n",
      "\n",
      "See the caveats in the documentation: https://pandas.pydata.org/pandas-docs/stable/user_guide/indexing.html#returning-a-view-versus-a-copy\n",
      "  return self._update_inplace(result)\n"
     ]
    }
   ],
   "source": [
    "#Impute categorical features separately\n",
    "train_data = categorical_imputer(train_data)\n",
    "test_data = categorical_imputer(test_data)"
   ]
  },
  {
   "cell_type": "code",
   "execution_count": 22,
   "id": "91c0f0f5",
   "metadata": {},
   "outputs": [],
   "source": [
    "#Custom function to impute categorical data using 'mean' approach\n",
    "def numerical_imputer(df):\n",
    "    num_cols = [col for col in df.columns if df.dtypes.loc[col] != 'object']\n",
    "    for col in num_cols:\n",
    "        mean = df[col].mean()\n",
    "        df[col].fillna(mean, inplace=True)\n",
    "    return df\n",
    "#Alternatively can convert to OHE and then IterativelyImpute missing numerical data, but missing data is miniscule"
   ]
  },
  {
   "cell_type": "code",
   "execution_count": 23,
   "id": "b988e497",
   "metadata": {},
   "outputs": [],
   "source": [
    "#Impute numerical features separately\n",
    "train_data = numerical_imputer(train_data)\n",
    "test_data = numerical_imputer(test_data)"
   ]
  },
  {
   "cell_type": "code",
   "execution_count": 25,
   "id": "c678d245",
   "metadata": {},
   "outputs": [
    {
     "data": {
      "text/plain": [
       "Age               0\n",
       "Debt              0\n",
       "Married           0\n",
       "BankCustomer      0\n",
       "EducationLevel    0\n",
       "Ethnicity         0\n",
       "YearsEmployed     0\n",
       "PriorDefault      0\n",
       "Employed          0\n",
       "CreditScore       0\n",
       "Citizen           0\n",
       "Income            0\n",
       "ApprovalStatus    0\n",
       "dtype: int64"
      ]
     },
     "execution_count": 25,
     "metadata": {},
     "output_type": "execute_result"
    }
   ],
   "source": [
    "#Check if missing data has been filled\n",
    "train_data.isna().sum()"
   ]
  },
  {
   "cell_type": "code",
   "execution_count": 26,
   "id": "53e728c0",
   "metadata": {},
   "outputs": [],
   "source": [
    "#Convert Categorical Features to Numerical using OHE\n",
    "#Define list of categorical features\n",
    "cat_cols = [col for col in train_data.columns if train_data.dtypes.loc[col] == 'object']\n",
    "\n",
    "ohe = OneHotEncoder(sparse=False)\n",
    "train_cat = train_data[cat_cols]\n",
    "train_ohe_cat = ohe.fit_transform(train_cat)"
   ]
  },
  {
   "cell_type": "code",
   "execution_count": 27,
   "id": "bdb92123",
   "metadata": {},
   "outputs": [
    {
     "name": "stdout",
     "output_type": "stream",
     "text": [
      "['Married - l', 'Married - u', 'Married - y', 'BankCustomer - g', 'BankCustomer - gg', 'BankCustomer - p', 'EducationLevel - aa', 'EducationLevel - c', 'EducationLevel - cc', 'EducationLevel - d', 'EducationLevel - e', 'EducationLevel - ff', 'EducationLevel - i', 'EducationLevel - j', 'EducationLevel - k', 'EducationLevel - m', 'EducationLevel - q', 'EducationLevel - r', 'EducationLevel - w', 'EducationLevel - x', 'Ethnicity - bb', 'Ethnicity - dd', 'Ethnicity - ff', 'Ethnicity - h', 'Ethnicity - j', 'Ethnicity - n', 'Ethnicity - o', 'Ethnicity - v', 'Ethnicity - z', 'PriorDefault - f', 'PriorDefault - t', 'Employed - f', 'Employed - t', 'Citizen - g', 'Citizen - p', 'Citizen - s', 'ApprovalStatus - +', 'ApprovalStatus - -']\n"
     ]
    }
   ],
   "source": [
    "#OHE renames columns to numbers. The values of the columns have also been anonymized \n",
    "#Must recreate column names as 'Cat - Col Value' so they are identifiable\n",
    "columns = {}\n",
    "for col, array in zip(cat_cols, ohe.categories_):\n",
    "    columns[col] = array\n",
    "final_columns = []\n",
    "for key, values in columns.items():\n",
    "    for value in values:\n",
    "        final_columns.append(f'{key} - {value}')\n",
    "print(final_columns)"
   ]
  },
  {
   "cell_type": "code",
   "execution_count": 28,
   "id": "e3b88b39",
   "metadata": {},
   "outputs": [],
   "source": [
    "#Convert to DataFrame with clearly labelled columns\n",
    "train_ohe_cat = pd.DataFrame(train_ohe_cat, columns=final_columns)"
   ]
  },
  {
   "cell_type": "code",
   "execution_count": 30,
   "id": "c8226bb2",
   "metadata": {},
   "outputs": [
    {
     "data": {
      "text/html": [
       "<div>\n",
       "<style scoped>\n",
       "    .dataframe tbody tr th:only-of-type {\n",
       "        vertical-align: middle;\n",
       "    }\n",
       "\n",
       "    .dataframe tbody tr th {\n",
       "        vertical-align: top;\n",
       "    }\n",
       "\n",
       "    .dataframe thead th {\n",
       "        text-align: right;\n",
       "    }\n",
       "</style>\n",
       "<table border=\"1\" class=\"dataframe\">\n",
       "  <thead>\n",
       "    <tr style=\"text-align: right;\">\n",
       "      <th></th>\n",
       "      <th>Married - l</th>\n",
       "      <th>Married - u</th>\n",
       "      <th>Married - y</th>\n",
       "      <th>BankCustomer - g</th>\n",
       "      <th>BankCustomer - gg</th>\n",
       "      <th>BankCustomer - p</th>\n",
       "      <th>EducationLevel - aa</th>\n",
       "      <th>EducationLevel - c</th>\n",
       "      <th>EducationLevel - cc</th>\n",
       "      <th>EducationLevel - d</th>\n",
       "      <th>...</th>\n",
       "      <th>Ethnicity - z</th>\n",
       "      <th>PriorDefault - f</th>\n",
       "      <th>PriorDefault - t</th>\n",
       "      <th>Employed - f</th>\n",
       "      <th>Employed - t</th>\n",
       "      <th>Citizen - g</th>\n",
       "      <th>Citizen - p</th>\n",
       "      <th>Citizen - s</th>\n",
       "      <th>ApprovalStatus - +</th>\n",
       "      <th>ApprovalStatus - -</th>\n",
       "    </tr>\n",
       "  </thead>\n",
       "  <tbody>\n",
       "    <tr>\n",
       "      <th>0</th>\n",
       "      <td>0.0</td>\n",
       "      <td>0.0</td>\n",
       "      <td>1.0</td>\n",
       "      <td>0.0</td>\n",
       "      <td>0.0</td>\n",
       "      <td>1.0</td>\n",
       "      <td>0.0</td>\n",
       "      <td>0.0</td>\n",
       "      <td>0.0</td>\n",
       "      <td>0.0</td>\n",
       "      <td>...</td>\n",
       "      <td>0.0</td>\n",
       "      <td>1.0</td>\n",
       "      <td>0.0</td>\n",
       "      <td>1.0</td>\n",
       "      <td>0.0</td>\n",
       "      <td>1.0</td>\n",
       "      <td>0.0</td>\n",
       "      <td>0.0</td>\n",
       "      <td>0.0</td>\n",
       "      <td>1.0</td>\n",
       "    </tr>\n",
       "    <tr>\n",
       "      <th>1</th>\n",
       "      <td>0.0</td>\n",
       "      <td>1.0</td>\n",
       "      <td>0.0</td>\n",
       "      <td>1.0</td>\n",
       "      <td>0.0</td>\n",
       "      <td>0.0</td>\n",
       "      <td>0.0</td>\n",
       "      <td>0.0</td>\n",
       "      <td>0.0</td>\n",
       "      <td>0.0</td>\n",
       "      <td>...</td>\n",
       "      <td>0.0</td>\n",
       "      <td>0.0</td>\n",
       "      <td>1.0</td>\n",
       "      <td>0.0</td>\n",
       "      <td>1.0</td>\n",
       "      <td>1.0</td>\n",
       "      <td>0.0</td>\n",
       "      <td>0.0</td>\n",
       "      <td>0.0</td>\n",
       "      <td>1.0</td>\n",
       "    </tr>\n",
       "    <tr>\n",
       "      <th>2</th>\n",
       "      <td>0.0</td>\n",
       "      <td>1.0</td>\n",
       "      <td>0.0</td>\n",
       "      <td>1.0</td>\n",
       "      <td>0.0</td>\n",
       "      <td>0.0</td>\n",
       "      <td>0.0</td>\n",
       "      <td>0.0</td>\n",
       "      <td>0.0</td>\n",
       "      <td>0.0</td>\n",
       "      <td>...</td>\n",
       "      <td>0.0</td>\n",
       "      <td>0.0</td>\n",
       "      <td>1.0</td>\n",
       "      <td>1.0</td>\n",
       "      <td>0.0</td>\n",
       "      <td>0.0</td>\n",
       "      <td>0.0</td>\n",
       "      <td>1.0</td>\n",
       "      <td>0.0</td>\n",
       "      <td>1.0</td>\n",
       "    </tr>\n",
       "    <tr>\n",
       "      <th>3</th>\n",
       "      <td>0.0</td>\n",
       "      <td>1.0</td>\n",
       "      <td>0.0</td>\n",
       "      <td>1.0</td>\n",
       "      <td>0.0</td>\n",
       "      <td>0.0</td>\n",
       "      <td>0.0</td>\n",
       "      <td>0.0</td>\n",
       "      <td>0.0</td>\n",
       "      <td>0.0</td>\n",
       "      <td>...</td>\n",
       "      <td>0.0</td>\n",
       "      <td>0.0</td>\n",
       "      <td>1.0</td>\n",
       "      <td>1.0</td>\n",
       "      <td>0.0</td>\n",
       "      <td>1.0</td>\n",
       "      <td>0.0</td>\n",
       "      <td>0.0</td>\n",
       "      <td>1.0</td>\n",
       "      <td>0.0</td>\n",
       "    </tr>\n",
       "    <tr>\n",
       "      <th>4</th>\n",
       "      <td>0.0</td>\n",
       "      <td>1.0</td>\n",
       "      <td>0.0</td>\n",
       "      <td>1.0</td>\n",
       "      <td>0.0</td>\n",
       "      <td>0.0</td>\n",
       "      <td>0.0</td>\n",
       "      <td>0.0</td>\n",
       "      <td>0.0</td>\n",
       "      <td>0.0</td>\n",
       "      <td>...</td>\n",
       "      <td>0.0</td>\n",
       "      <td>0.0</td>\n",
       "      <td>1.0</td>\n",
       "      <td>0.0</td>\n",
       "      <td>1.0</td>\n",
       "      <td>1.0</td>\n",
       "      <td>0.0</td>\n",
       "      <td>0.0</td>\n",
       "      <td>1.0</td>\n",
       "      <td>0.0</td>\n",
       "    </tr>\n",
       "  </tbody>\n",
       "</table>\n",
       "<p>5 rows × 38 columns</p>\n",
       "</div>"
      ],
      "text/plain": [
       "   Married - l  Married - u  Married - y  BankCustomer - g  BankCustomer - gg  \\\n",
       "0          0.0          0.0          1.0               0.0                0.0   \n",
       "1          0.0          1.0          0.0               1.0                0.0   \n",
       "2          0.0          1.0          0.0               1.0                0.0   \n",
       "3          0.0          1.0          0.0               1.0                0.0   \n",
       "4          0.0          1.0          0.0               1.0                0.0   \n",
       "\n",
       "   BankCustomer - p  EducationLevel - aa  EducationLevel - c  \\\n",
       "0               1.0                  0.0                 0.0   \n",
       "1               0.0                  0.0                 0.0   \n",
       "2               0.0                  0.0                 0.0   \n",
       "3               0.0                  0.0                 0.0   \n",
       "4               0.0                  0.0                 0.0   \n",
       "\n",
       "   EducationLevel - cc  EducationLevel - d  ...  Ethnicity - z  \\\n",
       "0                  0.0                 0.0  ...            0.0   \n",
       "1                  0.0                 0.0  ...            0.0   \n",
       "2                  0.0                 0.0  ...            0.0   \n",
       "3                  0.0                 0.0  ...            0.0   \n",
       "4                  0.0                 0.0  ...            0.0   \n",
       "\n",
       "   PriorDefault - f  PriorDefault - t  Employed - f  Employed - t  \\\n",
       "0               1.0               0.0           1.0           0.0   \n",
       "1               0.0               1.0           0.0           1.0   \n",
       "2               0.0               1.0           1.0           0.0   \n",
       "3               0.0               1.0           1.0           0.0   \n",
       "4               0.0               1.0           0.0           1.0   \n",
       "\n",
       "   Citizen - g  Citizen - p  Citizen - s  ApprovalStatus - +  \\\n",
       "0          1.0          0.0          0.0                 0.0   \n",
       "1          1.0          0.0          0.0                 0.0   \n",
       "2          0.0          0.0          1.0                 0.0   \n",
       "3          1.0          0.0          0.0                 1.0   \n",
       "4          1.0          0.0          0.0                 1.0   \n",
       "\n",
       "   ApprovalStatus - -  \n",
       "0                 1.0  \n",
       "1                 1.0  \n",
       "2                 1.0  \n",
       "3                 0.0  \n",
       "4                 0.0  \n",
       "\n",
       "[5 rows x 38 columns]"
      ]
     },
     "execution_count": 30,
     "metadata": {},
     "output_type": "execute_result"
    }
   ],
   "source": [
    "#Inspect\n",
    "train_ohe_cat.head()"
   ]
  },
  {
   "cell_type": "code",
   "execution_count": 31,
   "id": "e3fb701b",
   "metadata": {},
   "outputs": [],
   "source": [
    "#Repeat for test data (OHE & convert to DF)\n",
    "test_cat = test_data[cat_cols]\n",
    "test_ohe_cat = ohe.transform(test_cat)\n",
    "\n",
    "test_ohe_cat = pd.DataFrame(test_ohe_cat, columns=final_columns)"
   ]
  },
  {
   "cell_type": "code",
   "execution_count": 32,
   "id": "7fc4f7f4",
   "metadata": {},
   "outputs": [],
   "source": [
    "#OHE would make ~800 columns if we didn't separate the numerical, so now we have to add it back in\n",
    "#Get df's for numerical features (both train & test)\n",
    "train_num = train_data[[col for col in train_data.columns if col not in cat_cols]].reset_index(drop=True)\n",
    "test_num = test_data[[col for col in test_data.columns if col not in cat_cols]].reset_index(drop=True)\n"
   ]
  },
  {
   "cell_type": "code",
   "execution_count": 33,
   "id": "8f7d9a8f",
   "metadata": {},
   "outputs": [],
   "source": [
    "#Create final datasets by adding numerical df with categorical df\n",
    "train_data_final = pd.concat([train_num, train_ohe_cat], axis=1)\n",
    "test_data_final = pd.concat([test_num, test_ohe_cat], axis=1)"
   ]
  },
  {
   "cell_type": "code",
   "execution_count": 34,
   "id": "350b97f5",
   "metadata": {},
   "outputs": [],
   "source": [
    "#Separate out y feature (1 is + and 0 is - so we take 2nd last column for y)\n",
    "X_train, y_train = train_data_final.iloc[:, :-1].values, train_data_final.iloc[:, [-2]].values\n",
    "X_test, y_test = test_data_final.iloc[:, :-1].values, test_data_final.iloc[:, [-2]].values"
   ]
  },
  {
   "cell_type": "code",
   "execution_count": 35,
   "id": "cf60f6c8",
   "metadata": {},
   "outputs": [],
   "source": [
    "#Instantiate scaler object and standard scale data\n",
    "scaler = StandardScaler()\n",
    "X_train_scaled = scaler.fit_transform(X_train)\n",
    "X_test_scaled = scaler.transform(X_test)"
   ]
  },
  {
   "cell_type": "markdown",
   "id": "184570dd",
   "metadata": {},
   "source": [
    "## Building the Classifier\n",
    "<li>Instantiate Logisitic Regression Classifier, train and evaluate our model</li>"
   ]
  },
  {
   "cell_type": "code",
   "execution_count": 37,
   "id": "d55e22df",
   "metadata": {},
   "outputs": [
    {
     "data": {
      "text/plain": [
       "LogisticRegression()"
      ]
     },
     "execution_count": 37,
     "metadata": {},
     "output_type": "execute_result"
    }
   ],
   "source": [
    "#Instantiate Logistic Regression Model and Fit to Data\n",
    "lr = LogisticRegression()\n",
    "lr.fit(X_train_scaled, y_train.ravel())"
   ]
  },
  {
   "cell_type": "code",
   "execution_count": 38,
   "id": "85fa0474",
   "metadata": {},
   "outputs": [
    {
     "data": {
      "text/plain": [
       "1.0"
      ]
     },
     "execution_count": 38,
     "metadata": {},
     "output_type": "execute_result"
    }
   ],
   "source": [
    "#Score model on training data\n",
    "lr.score(X_train_scaled, y_train)"
   ]
  },
  {
   "cell_type": "code",
   "execution_count": 39,
   "id": "e0b41d30",
   "metadata": {},
   "outputs": [
    {
     "data": {
      "text/plain": [
       "1.0"
      ]
     },
     "execution_count": 39,
     "metadata": {},
     "output_type": "execute_result"
    }
   ],
   "source": [
    "#Score model on testing data (if it's significantly lower we may have to introduce regularization)\n",
    "lr.score(X_test_scaled, y_test)"
   ]
  },
  {
   "cell_type": "code",
   "execution_count": 41,
   "id": "70a91b6c",
   "metadata": {},
   "outputs": [
    {
     "data": {
      "text/html": [
       "<div>\n",
       "<style scoped>\n",
       "    .dataframe tbody tr th:only-of-type {\n",
       "        vertical-align: middle;\n",
       "    }\n",
       "\n",
       "    .dataframe tbody tr th {\n",
       "        vertical-align: top;\n",
       "    }\n",
       "\n",
       "    .dataframe thead th {\n",
       "        text-align: right;\n",
       "    }\n",
       "</style>\n",
       "<table border=\"1\" class=\"dataframe\">\n",
       "  <thead>\n",
       "    <tr style=\"text-align: right;\">\n",
       "      <th></th>\n",
       "      <th>Actual Negative</th>\n",
       "      <th>Actual Positive</th>\n",
       "    </tr>\n",
       "  </thead>\n",
       "  <tbody>\n",
       "    <tr>\n",
       "      <th>Predicted Negative</th>\n",
       "      <td>68</td>\n",
       "      <td>0</td>\n",
       "    </tr>\n",
       "    <tr>\n",
       "      <th>Predicted Positive</th>\n",
       "      <td>0</td>\n",
       "      <td>70</td>\n",
       "    </tr>\n",
       "  </tbody>\n",
       "</table>\n",
       "</div>"
      ],
      "text/plain": [
       "                    Actual Negative  Actual Positive\n",
       "Predicted Negative               68                0\n",
       "Predicted Positive                0               70"
      ]
     },
     "execution_count": 41,
     "metadata": {},
     "output_type": "execute_result"
    }
   ],
   "source": [
    "#Create a confusion matrix to view exact predictions\n",
    "y_pred = lr.predict(X_test_scaled)\n",
    "pd.DataFrame(confusion_matrix(y_test, y_pred), columns = ['Actual Negative', 'Actual Positive']).set_axis(['Predicted Negative', 'Predicted Positive'])"
   ]
  },
  {
   "cell_type": "code",
   "execution_count": 42,
   "id": "d5635fde",
   "metadata": {},
   "outputs": [],
   "source": [
    "#We got a perfect model (usually not possible, will continue investigating as if we did not get such a score)"
   ]
  },
  {
   "cell_type": "markdown",
   "id": "28823885",
   "metadata": {},
   "source": [
    "## Hyperparameter Tuning\n",
    "<li>Optimizing LR model with GridSearchCV. (penalty type, regularization strength)</li>"
   ]
  },
  {
   "cell_type": "code",
   "execution_count": 44,
   "id": "43ba883f",
   "metadata": {},
   "outputs": [],
   "source": [
    "#Instantiate new model and perform gridsearch to optimize\n",
    "model = LogisticRegression()\n",
    "param_grid = {\n",
    "    'solver': ['liblinear'], \n",
    "    'penalty' : ['l1', 'l2'],\n",
    "    'C': [0.001, 0.01, 0.1, 1.0, 10, 100, 1000]\n",
    "}\n",
    "\n",
    "gs_cv = GridSearchCV(model, param_grid, cv=5, scoring='accuracy')"
   ]
  },
  {
   "cell_type": "code",
   "execution_count": 45,
   "id": "4cff749b",
   "metadata": {},
   "outputs": [
    {
     "name": "stdout",
     "output_type": "stream",
     "text": [
      "LogisticRegression(C=0.01, penalty='l1', solver='liblinear')\n"
     ]
    }
   ],
   "source": [
    "#Fit the search algo and see the best performance\n",
    "gs_cv.fit(X_train_scaled, y_train.ravel())\n",
    "print(gs_cv.best_estimator_)"
   ]
  },
  {
   "cell_type": "code",
   "execution_count": 47,
   "id": "4bc4a9e2",
   "metadata": {},
   "outputs": [],
   "source": [
    "#Recreate a new grid to investigate closer to our previous 'best value'\n",
    "param_grid = {\n",
    "    'solver': ['liblinear'], \n",
    "    'penalty' : ['l1'],\n",
    "    'C': np.logspace(-3,-1, 25)\n",
    "}\n",
    "\n",
    "gs_cv = GridSearchCV(model, param_grid, cv=5, scoring='accuracy')"
   ]
  },
  {
   "cell_type": "code",
   "execution_count": 49,
   "id": "3bffc906",
   "metadata": {},
   "outputs": [
    {
     "name": "stdout",
     "output_type": "stream",
     "text": [
      "LogisticRegression(C=0.004641588833612777, penalty='l1', solver='liblinear')\n",
      "1.0\n"
     ]
    }
   ],
   "source": [
    "#Find ideal model and ideal score\n",
    "gs_cv.fit(X_train_scaled, y_train.ravel())\n",
    "print(gs_cv.best_estimator_)\n",
    "print(gs_cv.best_score_)"
   ]
  },
  {
   "cell_type": "code",
   "execution_count": 83,
   "id": "062a26f7",
   "metadata": {},
   "outputs": [],
   "source": [
    "#Instantiate a new model with our ideal configurations (default had 100% so no need to, but normally would)\n",
    "ideal_model = LogisticRegression()"
   ]
  },
  {
   "cell_type": "markdown",
   "id": "e59cf396",
   "metadata": {},
   "source": [
    "## Pipeline\n",
    "<li>Organize steps into a Pipeline for simplicty and ease.</li>"
   ]
  },
  {
   "cell_type": "code",
   "execution_count": 100,
   "id": "19913b47",
   "metadata": {},
   "outputs": [],
   "source": [
    "#Used custom functions last time, but it's cleaner with Sci-kit Learn's built in functionalities)\n",
    "\n",
    "#Create pipeline for preprocessing numerical features\n",
    "numeric_transformer = Pipeline(steps=[('imputer', SimpleImputer(strategy='mean')), ('scaler', StandardScaler())])\n",
    "\n",
    "#Create pipeline for preprocessing categorical features\n",
    "categorical_transformer = Pipeline(steps=[\n",
    "       ('imputer', SimpleImputer(strategy='most_frequent')), ('ohe', OneHotEncoder())])"
   ]
  },
  {
   "cell_type": "code",
   "execution_count": 101,
   "id": "f8fad348",
   "metadata": {},
   "outputs": [],
   "source": [
    "#Explicitly state which features are numerical and categorical for transformer\n",
    "numeric_features = ['Age', 'Debt', 'YearsEmployed', 'CreditScore', 'Income']\n",
    "categorical_features = ['Married', 'BankCustomer', 'EducationLevel', 'Ethnicity', 'PriorDefault', 'Employed']"
   ]
  },
  {
   "cell_type": "code",
   "execution_count": 102,
   "id": "517ca386",
   "metadata": {},
   "outputs": [],
   "source": [
    "#Create ColumnTransformer object containing both preprocessors\n",
    "preprocessor = ColumnTransformer(transformers=[('numerical',numeric_transformer, numeric_features), \n",
    "                                               ('categorical', categorical_transformer,categorical_features )])"
   ]
  },
  {
   "cell_type": "code",
   "execution_count": 103,
   "id": "3be293f4",
   "metadata": {},
   "outputs": [],
   "source": [
    "#Construct pipeline using columntransformer and ideal model\n",
    "ml_pipeline =  Pipeline(steps=[('preprocesser', preprocessor), ('ideal_lr', ideal_model)])"
   ]
  },
  {
   "cell_type": "code",
   "execution_count": 104,
   "id": "b66016e4",
   "metadata": {},
   "outputs": [
    {
     "data": {
      "text/plain": [
       "Pipeline(steps=[('preprocesser',\n",
       "                 ColumnTransformer(transformers=[('numerical',\n",
       "                                                  Pipeline(steps=[('imputer',\n",
       "                                                                   SimpleImputer()),\n",
       "                                                                  ('scaler',\n",
       "                                                                   StandardScaler())]),\n",
       "                                                  ['Age', 'Debt',\n",
       "                                                   'YearsEmployed',\n",
       "                                                   'CreditScore', 'Income']),\n",
       "                                                 ('categorical',\n",
       "                                                  Pipeline(steps=[('imputer',\n",
       "                                                                   SimpleImputer(strategy='most_frequent')),\n",
       "                                                                  ('ohe',\n",
       "                                                                   OneHotEncoder())]),\n",
       "                                                  ['Married', 'BankCustomer',\n",
       "                                                   'EducationLevel',\n",
       "                                                   'Ethnicity', 'PriorDefault',\n",
       "                                                   'Employed'])])),\n",
       "                ('ideal_lr', LogisticRegression())])"
      ]
     },
     "execution_count": 104,
     "metadata": {},
     "output_type": "execute_result"
    }
   ],
   "source": [
    "#Prep data to be ingested by Pipeline (drop cols, define X,y, split data)\n",
    "data_col_dropped = cc_df.drop(columns=['Gender', 'DriversLicense', 'ZipCode'])\n",
    "X = data_col_dropped.iloc[:, :-1]\n",
    "y = data_col_dropped.iloc[:, -1].map({'+': 1, '-': 0})\n",
    "X_train, X_test, y_train, y_test = train_test_split(X, y, test_size=0.2, random_state=42)\n",
    "\n",
    "#Train pipeline\n",
    "ml_pipeline.fit(X_train, y_train)\n"
   ]
  }
 ],
 "metadata": {
  "kernelspec": {
   "display_name": "Python 3 (ipykernel)",
   "language": "python",
   "name": "python3"
  },
  "language_info": {
   "codemirror_mode": {
    "name": "ipython",
    "version": 3
   },
   "file_extension": ".py",
   "mimetype": "text/x-python",
   "name": "python",
   "nbconvert_exporter": "python",
   "pygments_lexer": "ipython3",
   "version": "3.9.7"
  }
 },
 "nbformat": 4,
 "nbformat_minor": 5
}
