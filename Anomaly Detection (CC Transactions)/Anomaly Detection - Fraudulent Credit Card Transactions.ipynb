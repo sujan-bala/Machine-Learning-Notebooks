{
 "cells": [
  {
   "cell_type": "markdown",
   "id": "95f80593",
   "metadata": {},
   "source": [
    "## Anomaly Detection - Fraudulent Credit Card Transactions\n",
    "<p>We'll use an anonymized dataset (to protect privacy) containing credit card transaction data. Similarly in real life, this dataset has a highly imbalanced positive class (very few). \n",
    "    \n",
    "The Approach:\n",
    "<ul>\n",
    "<li>Import libraries, load and view the dataset, ensure correct datatypes, convert ?/blanks/etc. into nan, and run basic exploratory analysis </li>\n",
    "<li>Use Isloation Random Forest algorithm (an ensemble algorithm) </li>\n",
    "<li>Use Local Outlier Factor Algorithm </li>\n",
    "<li>Use One Class SVM Algorithm</li>\n",
    "</ul>"
   ]
  },
  {
   "cell_type": "markdown",
   "id": "795fffa0",
   "metadata": {},
   "source": [
    "### Part One: Initialization, Imports, Basic EDA\n",
    "#### Import libraries, load and view the dataset, ensure correct datatypes, convert ?/blanks/etc. into nan, and run basic exploratory analysis"
   ]
  },
  {
   "cell_type": "code",
   "execution_count": 307,
   "id": "e37782ec",
   "metadata": {},
   "outputs": [],
   "source": [
    "#Data\n",
    "import pandas as pd\n",
    "import numpy as np\n",
    "\n",
    "#Visualization\n",
    "import seaborn as sns\n",
    "from matplotlib import pyplot as plt\n",
    "\n",
    "#Machine Learning for Anomaly Detection\n",
    "from sklearn.ensemble import IsolationForest\n",
    "from sklearn.neighbors import LocalOutlierFactor\n",
    "from sklearn.svm import OneClassSVM"
   ]
  },
  {
   "cell_type": "code",
   "execution_count": 227,
   "id": "9b51d02c",
   "metadata": {},
   "outputs": [],
   "source": [
    "#Load in data\n",
    "transactions_df = pd.read_csv('Data/credit_card_transactional_data.csv')"
   ]
  },
  {
   "cell_type": "code",
   "execution_count": 228,
   "id": "4a373a91",
   "metadata": {},
   "outputs": [
    {
     "data": {
      "text/html": [
       "<div>\n",
       "<style scoped>\n",
       "    .dataframe tbody tr th:only-of-type {\n",
       "        vertical-align: middle;\n",
       "    }\n",
       "\n",
       "    .dataframe tbody tr th {\n",
       "        vertical-align: top;\n",
       "    }\n",
       "\n",
       "    .dataframe thead th {\n",
       "        text-align: right;\n",
       "    }\n",
       "</style>\n",
       "<table border=\"1\" class=\"dataframe\">\n",
       "  <thead>\n",
       "    <tr style=\"text-align: right;\">\n",
       "      <th></th>\n",
       "      <th>Timestamp</th>\n",
       "      <th>Value</th>\n",
       "      <th>C1</th>\n",
       "      <th>C2</th>\n",
       "      <th>C3</th>\n",
       "      <th>C4</th>\n",
       "      <th>C5</th>\n",
       "      <th>C6</th>\n",
       "      <th>C7</th>\n",
       "      <th>C8</th>\n",
       "      <th>C9</th>\n",
       "      <th>C10</th>\n",
       "      <th>C11</th>\n",
       "      <th>C12</th>\n",
       "      <th>Class</th>\n",
       "    </tr>\n",
       "  </thead>\n",
       "  <tbody>\n",
       "    <tr>\n",
       "      <th>0</th>\n",
       "      <td>152212.22220</td>\n",
       "      <td>1.816</td>\n",
       "      <td>13.245219</td>\n",
       "      <td>NaN</td>\n",
       "      <td>16.367516</td>\n",
       "      <td>0.029326</td>\n",
       "      <td>1.278423</td>\n",
       "      <td>2.748137</td>\n",
       "      <td>-1.331457</td>\n",
       "      <td>0.065879</td>\n",
       "      <td>-0.104518</td>\n",
       "      <td>-0.037517</td>\n",
       "      <td>-250.000000</td>\n",
       "      <td>-0.475633</td>\n",
       "      <td>0</td>\n",
       "    </tr>\n",
       "    <tr>\n",
       "      <th>1</th>\n",
       "      <td>159074.44440</td>\n",
       "      <td>163.568</td>\n",
       "      <td>4.401403</td>\n",
       "      <td>0.084682</td>\n",
       "      <td>-313.000000</td>\n",
       "      <td>0.001888</td>\n",
       "      <td>-0.103762</td>\n",
       "      <td>1.115678</td>\n",
       "      <td>NaN</td>\n",
       "      <td>0.062966</td>\n",
       "      <td>0.130546</td>\n",
       "      <td>-0.303582</td>\n",
       "      <td>NaN</td>\n",
       "      <td>NaN</td>\n",
       "      <td>0</td>\n",
       "    </tr>\n",
       "    <tr>\n",
       "      <th>2</th>\n",
       "      <td>43127.77778</td>\n",
       "      <td>24.000</td>\n",
       "      <td>-9.067399</td>\n",
       "      <td>0.762501</td>\n",
       "      <td>NaN</td>\n",
       "      <td>0.052481</td>\n",
       "      <td>-0.101681</td>\n",
       "      <td>-88.000000</td>\n",
       "      <td>0.117912</td>\n",
       "      <td>NaN</td>\n",
       "      <td>0.358812</td>\n",
       "      <td>-0.367016</td>\n",
       "      <td>NaN</td>\n",
       "      <td>361.000000</td>\n",
       "      <td>0</td>\n",
       "    </tr>\n",
       "    <tr>\n",
       "      <th>3</th>\n",
       "      <td>156042.22220</td>\n",
       "      <td>8.000</td>\n",
       "      <td>8.728304</td>\n",
       "      <td>-0.382673</td>\n",
       "      <td>NaN</td>\n",
       "      <td>-0.116056</td>\n",
       "      <td>-0.122346</td>\n",
       "      <td>-44.000000</td>\n",
       "      <td>-338.000000</td>\n",
       "      <td>0.042154</td>\n",
       "      <td>-0.261259</td>\n",
       "      <td>-0.103974</td>\n",
       "      <td>NaN</td>\n",
       "      <td>-1.654373</td>\n",
       "      <td>0</td>\n",
       "    </tr>\n",
       "    <tr>\n",
       "      <th>4</th>\n",
       "      <td>154720.00000</td>\n",
       "      <td>59.496</td>\n",
       "      <td>7.657141</td>\n",
       "      <td>0.150611</td>\n",
       "      <td>NaN</td>\n",
       "      <td>-0.034883</td>\n",
       "      <td>0.826100</td>\n",
       "      <td>0.357556</td>\n",
       "      <td>0.147640</td>\n",
       "      <td>NaN</td>\n",
       "      <td>0.080491</td>\n",
       "      <td>-0.693792</td>\n",
       "      <td>-0.308631</td>\n",
       "      <td>0.563570</td>\n",
       "      <td>0</td>\n",
       "    </tr>\n",
       "  </tbody>\n",
       "</table>\n",
       "</div>"
      ],
      "text/plain": [
       "      Timestamp    Value         C1        C2          C3        C4        C5  \\\n",
       "0  152212.22220    1.816  13.245219       NaN   16.367516  0.029326  1.278423   \n",
       "1  159074.44440  163.568   4.401403  0.084682 -313.000000  0.001888 -0.103762   \n",
       "2   43127.77778   24.000  -9.067399  0.762501         NaN  0.052481 -0.101681   \n",
       "3  156042.22220    8.000   8.728304 -0.382673         NaN -0.116056 -0.122346   \n",
       "4  154720.00000   59.496   7.657141  0.150611         NaN -0.034883  0.826100   \n",
       "\n",
       "          C6          C7        C8        C9       C10         C11  \\\n",
       "0   2.748137   -1.331457  0.065879 -0.104518 -0.037517 -250.000000   \n",
       "1   1.115678         NaN  0.062966  0.130546 -0.303582         NaN   \n",
       "2 -88.000000    0.117912       NaN  0.358812 -0.367016         NaN   \n",
       "3 -44.000000 -338.000000  0.042154 -0.261259 -0.103974         NaN   \n",
       "4   0.357556    0.147640       NaN  0.080491 -0.693792   -0.308631   \n",
       "\n",
       "          C12  Class  \n",
       "0   -0.475633      0  \n",
       "1         NaN      0  \n",
       "2  361.000000      0  \n",
       "3   -1.654373      0  \n",
       "4    0.563570      0  "
      ]
     },
     "execution_count": 228,
     "metadata": {},
     "output_type": "execute_result"
    }
   ],
   "source": [
    "#Investigate Data\n",
    "transactions_df.head()"
   ]
  },
  {
   "cell_type": "code",
   "execution_count": 229,
   "id": "0483489e",
   "metadata": {},
   "outputs": [
    {
     "data": {
      "text/plain": [
       "(140000, 15)"
      ]
     },
     "execution_count": 229,
     "metadata": {},
     "output_type": "execute_result"
    }
   ],
   "source": [
    "#See Size\n",
    "transactions_df.shape"
   ]
  },
  {
   "cell_type": "code",
   "execution_count": 230,
   "id": "4b055c9a",
   "metadata": {},
   "outputs": [
    {
     "data": {
      "text/html": [
       "<div>\n",
       "<style scoped>\n",
       "    .dataframe tbody tr th:only-of-type {\n",
       "        vertical-align: middle;\n",
       "    }\n",
       "\n",
       "    .dataframe tbody tr th {\n",
       "        vertical-align: top;\n",
       "    }\n",
       "\n",
       "    .dataframe thead th {\n",
       "        text-align: right;\n",
       "    }\n",
       "</style>\n",
       "<table border=\"1\" class=\"dataframe\">\n",
       "  <thead>\n",
       "    <tr style=\"text-align: right;\">\n",
       "      <th></th>\n",
       "      <th>Timestamp</th>\n",
       "      <th>Value</th>\n",
       "      <th>C1</th>\n",
       "      <th>C2</th>\n",
       "      <th>C3</th>\n",
       "      <th>C4</th>\n",
       "      <th>C5</th>\n",
       "      <th>C6</th>\n",
       "      <th>C7</th>\n",
       "      <th>C8</th>\n",
       "      <th>C9</th>\n",
       "      <th>C10</th>\n",
       "      <th>C11</th>\n",
       "      <th>C12</th>\n",
       "      <th>Class</th>\n",
       "    </tr>\n",
       "  </thead>\n",
       "  <tbody>\n",
       "    <tr>\n",
       "      <th>count</th>\n",
       "      <td>140000.000000</td>\n",
       "      <td>140000.000000</td>\n",
       "      <td>116232.000000</td>\n",
       "      <td>129731.000000</td>\n",
       "      <td>129693.000000</td>\n",
       "      <td>140000.000000</td>\n",
       "      <td>129678.000000</td>\n",
       "      <td>116529.000000</td>\n",
       "      <td>125595.000000</td>\n",
       "      <td>129645.000000</td>\n",
       "      <td>140000.000000</td>\n",
       "      <td>129891.000000</td>\n",
       "      <td>125695.000000</td>\n",
       "      <td>125833.000000</td>\n",
       "      <td>140000.000000</td>\n",
       "    </tr>\n",
       "    <tr>\n",
       "      <th>mean</th>\n",
       "      <td>105334.592698</td>\n",
       "      <td>71.102883</td>\n",
       "      <td>-13.647954</td>\n",
       "      <td>-15.797094</td>\n",
       "      <td>-16.141105</td>\n",
       "      <td>0.000037</td>\n",
       "      <td>-15.540173</td>\n",
       "      <td>-13.681959</td>\n",
       "      <td>-14.760374</td>\n",
       "      <td>-16.067148</td>\n",
       "      <td>0.000119</td>\n",
       "      <td>-16.029764</td>\n",
       "      <td>-15.500080</td>\n",
       "      <td>-15.491673</td>\n",
       "      <td>0.001807</td>\n",
       "    </tr>\n",
       "    <tr>\n",
       "      <th>std</th>\n",
       "      <td>52763.641695</td>\n",
       "      <td>212.359700</td>\n",
       "      <td>224.599903</td>\n",
       "      <td>72.631165</td>\n",
       "      <td>74.585111</td>\n",
       "      <td>0.031540</td>\n",
       "      <td>72.120519</td>\n",
       "      <td>230.871123</td>\n",
       "      <td>235.313604</td>\n",
       "      <td>73.148242</td>\n",
       "      <td>0.215636</td>\n",
       "      <td>73.378542</td>\n",
       "      <td>237.289210</td>\n",
       "      <td>236.485713</td>\n",
       "      <td>0.042472</td>\n",
       "    </tr>\n",
       "    <tr>\n",
       "      <th>min</th>\n",
       "      <td>0.000000</td>\n",
       "      <td>0.000000</td>\n",
       "      <td>-2000.000000</td>\n",
       "      <td>-500.000000</td>\n",
       "      <td>-500.000000</td>\n",
       "      <td>-0.212540</td>\n",
       "      <td>-500.000000</td>\n",
       "      <td>-2000.000000</td>\n",
       "      <td>-1999.000000</td>\n",
       "      <td>-500.000000</td>\n",
       "      <td>-1.544515</td>\n",
       "      <td>-500.000000</td>\n",
       "      <td>-1998.000000</td>\n",
       "      <td>-2000.000000</td>\n",
       "      <td>0.000000</td>\n",
       "    </tr>\n",
       "    <tr>\n",
       "      <th>25%</th>\n",
       "      <td>60107.500002</td>\n",
       "      <td>4.400000</td>\n",
       "      <td>-6.419730</td>\n",
       "      <td>-0.262951</td>\n",
       "      <td>-9.288367</td>\n",
       "      <td>-0.017731</td>\n",
       "      <td>-0.205542</td>\n",
       "      <td>-1.149444</td>\n",
       "      <td>-0.108129</td>\n",
       "      <td>-0.033800</td>\n",
       "      <td>-0.143551</td>\n",
       "      <td>-0.509781</td>\n",
       "      <td>-0.277642</td>\n",
       "      <td>-0.596404</td>\n",
       "      <td>0.000000</td>\n",
       "    </tr>\n",
       "    <tr>\n",
       "      <th>50%</th>\n",
       "      <td>94276.111110</td>\n",
       "      <td>17.584000</td>\n",
       "      <td>-1.250014</td>\n",
       "      <td>-0.019520</td>\n",
       "      <td>-1.739613</td>\n",
       "      <td>-0.000140</td>\n",
       "      <td>0.000903</td>\n",
       "      <td>0.279868</td>\n",
       "      <td>0.023023</td>\n",
       "      <td>-0.005629</td>\n",
       "      <td>0.003731</td>\n",
       "      <td>-0.062414</td>\n",
       "      <td>-0.019975</td>\n",
       "      <td>0.007491</td>\n",
       "      <td>0.000000</td>\n",
       "    </tr>\n",
       "    <tr>\n",
       "      <th>75%</th>\n",
       "      <td>154845.833375</td>\n",
       "      <td>61.522000</td>\n",
       "      <td>5.063801</td>\n",
       "      <td>0.220734</td>\n",
       "      <td>6.436411</td>\n",
       "      <td>0.017776</td>\n",
       "      <td>0.206203</td>\n",
       "      <td>1.092373</td>\n",
       "      <td>0.109777</td>\n",
       "      <td>0.022194</td>\n",
       "      <td>0.140835</td>\n",
       "      <td>0.327266</td>\n",
       "      <td>0.224548</td>\n",
       "      <td>0.507399</td>\n",
       "      <td>0.000000</td>\n",
       "    </tr>\n",
       "    <tr>\n",
       "      <th>max</th>\n",
       "      <td>191985.555600</td>\n",
       "      <td>20552.928000</td>\n",
       "      <td>2000.000000</td>\n",
       "      <td>100.000000</td>\n",
       "      <td>196.401291</td>\n",
       "      <td>0.278668</td>\n",
       "      <td>100.000000</td>\n",
       "      <td>1999.000000</td>\n",
       "      <td>1998.000000</td>\n",
       "      <td>100.000000</td>\n",
       "      <td>0.858579</td>\n",
       "      <td>100.000000</td>\n",
       "      <td>2000.000000</td>\n",
       "      <td>1999.000000</td>\n",
       "      <td>1.000000</td>\n",
       "    </tr>\n",
       "  </tbody>\n",
       "</table>\n",
       "</div>"
      ],
      "text/plain": [
       "           Timestamp          Value             C1             C2  \\\n",
       "count  140000.000000  140000.000000  116232.000000  129731.000000   \n",
       "mean   105334.592698      71.102883     -13.647954     -15.797094   \n",
       "std     52763.641695     212.359700     224.599903      72.631165   \n",
       "min         0.000000       0.000000   -2000.000000    -500.000000   \n",
       "25%     60107.500002       4.400000      -6.419730      -0.262951   \n",
       "50%     94276.111110      17.584000      -1.250014      -0.019520   \n",
       "75%    154845.833375      61.522000       5.063801       0.220734   \n",
       "max    191985.555600   20552.928000    2000.000000     100.000000   \n",
       "\n",
       "                  C3             C4             C5             C6  \\\n",
       "count  129693.000000  140000.000000  129678.000000  116529.000000   \n",
       "mean      -16.141105       0.000037     -15.540173     -13.681959   \n",
       "std        74.585111       0.031540      72.120519     230.871123   \n",
       "min      -500.000000      -0.212540    -500.000000   -2000.000000   \n",
       "25%        -9.288367      -0.017731      -0.205542      -1.149444   \n",
       "50%        -1.739613      -0.000140       0.000903       0.279868   \n",
       "75%         6.436411       0.017776       0.206203       1.092373   \n",
       "max       196.401291       0.278668     100.000000    1999.000000   \n",
       "\n",
       "                  C7             C8             C9            C10  \\\n",
       "count  125595.000000  129645.000000  140000.000000  129891.000000   \n",
       "mean      -14.760374     -16.067148       0.000119     -16.029764   \n",
       "std       235.313604      73.148242       0.215636      73.378542   \n",
       "min     -1999.000000    -500.000000      -1.544515    -500.000000   \n",
       "25%        -0.108129      -0.033800      -0.143551      -0.509781   \n",
       "50%         0.023023      -0.005629       0.003731      -0.062414   \n",
       "75%         0.109777       0.022194       0.140835       0.327266   \n",
       "max      1998.000000     100.000000       0.858579     100.000000   \n",
       "\n",
       "                 C11            C12          Class  \n",
       "count  125695.000000  125833.000000  140000.000000  \n",
       "mean      -15.500080     -15.491673       0.001807  \n",
       "std       237.289210     236.485713       0.042472  \n",
       "min     -1998.000000   -2000.000000       0.000000  \n",
       "25%        -0.277642      -0.596404       0.000000  \n",
       "50%        -0.019975       0.007491       0.000000  \n",
       "75%         0.224548       0.507399       0.000000  \n",
       "max      2000.000000    1999.000000       1.000000  "
      ]
     },
     "execution_count": 230,
     "metadata": {},
     "output_type": "execute_result"
    }
   ],
   "source": [
    "#Basic Exploration of Data\n",
    "transactions_df.describe()"
   ]
  },
  {
   "cell_type": "code",
   "execution_count": 231,
   "id": "69d5ed3b",
   "metadata": {},
   "outputs": [
    {
     "data": {
      "text/plain": [
       "0    139747\n",
       "1       253\n",
       "Name: Class, dtype: int64"
      ]
     },
     "execution_count": 231,
     "metadata": {},
     "output_type": "execute_result"
    }
   ],
   "source": [
    "#Investigate Class imbalances\n",
    "transactions_df.Class.value_counts()"
   ]
  },
  {
   "cell_type": "code",
   "execution_count": 232,
   "id": "9a3dd17b",
   "metadata": {},
   "outputs": [
    {
     "data": {
      "text/plain": [
       "Timestamp        0\n",
       "Value            0\n",
       "C1           23768\n",
       "C2           10269\n",
       "C3           10307\n",
       "C4               0\n",
       "C5           10322\n",
       "C6           23471\n",
       "C7           14405\n",
       "C8           10355\n",
       "C9               0\n",
       "C10          10109\n",
       "C11          14305\n",
       "C12          14167\n",
       "Class            0\n",
       "dtype: int64"
      ]
     },
     "execution_count": 232,
     "metadata": {},
     "output_type": "execute_result"
    }
   ],
   "source": [
    "#Investigate NA\n",
    "transactions_df.isna().sum()"
   ]
  },
  {
   "cell_type": "code",
   "execution_count": 233,
   "id": "5b0d3d8d",
   "metadata": {},
   "outputs": [],
   "source": [
    "#Perform Imputation #Median is not affected by outliers #KNNimpute would work well, but is computationally expensive\n",
    "transactions_df.fillna(transactions_df.median(), inplace=True)"
   ]
  },
  {
   "cell_type": "code",
   "execution_count": 234,
   "id": "3530e267",
   "metadata": {},
   "outputs": [
    {
     "data": {
      "text/plain": [
       "Timestamp    0\n",
       "Value        0\n",
       "C1           0\n",
       "C2           0\n",
       "C3           0\n",
       "C4           0\n",
       "C5           0\n",
       "C6           0\n",
       "C7           0\n",
       "C8           0\n",
       "C9           0\n",
       "C10          0\n",
       "C11          0\n",
       "C12          0\n",
       "Class        0\n",
       "dtype: int64"
      ]
     },
     "execution_count": 234,
     "metadata": {},
     "output_type": "execute_result"
    }
   ],
   "source": [
    "#Confirm NA's have been removed\n",
    "transactions_df.isna().sum()"
   ]
  },
  {
   "cell_type": "code",
   "execution_count": 235,
   "id": "bb477be2",
   "metadata": {},
   "outputs": [
    {
     "data": {
      "image/png": "[encoded data removed]",
      "text/plain": [
       "<Figure size 432x288 with 2 Axes>"
      ]
     },
     "metadata": {
      "needs_background": "light"
     },
     "output_type": "display_data"
    }
   ],
   "source": [
    "#Investigate Data for Multicollinearity\n",
    "sns.heatmap(transactions_df.corr())\n",
    "plt.title('Multicollinearity of Features')\n",
    "plt.show()"
   ]
  },
  {
   "cell_type": "markdown",
   "id": "1f82b233",
   "metadata": {},
   "source": [
    "### Part Two: Isolation Forest\n",
    "#### Use isloation random forest algorithm (an ensemble algorithm)"
   ]
  },
  {
   "cell_type": "code",
   "execution_count": 236,
   "id": "d35a263c",
   "metadata": {},
   "outputs": [],
   "source": [
    "#As this is an unsupervised algo we won't split the data and pretend we do not have the labels #no need to split\n",
    "X = transactions_df.drop(columns=['Class', 'Timestamp', 'Value'])\n",
    "y = transactions_df['Class']"
   ]
  },
  {
   "cell_type": "code",
   "execution_count": 225,
   "id": "1348c141",
   "metadata": {},
   "outputs": [
    {
     "data": {
      "text/plain": [
       "0    0.998193\n",
       "1    0.001807\n",
       "Name: Class, dtype: float64"
      ]
     },
     "execution_count": 225,
     "metadata": {},
     "output_type": "execute_result"
    }
   ],
   "source": [
    "#Labels will be used to calculate contamination which normally comes from industry expertise\n",
    "y.value_counts(normalize=True)"
   ]
  },
  {
   "cell_type": "code",
   "execution_count": 188,
   "id": "24d2bfec",
   "metadata": {},
   "outputs": [],
   "source": [
    "#Instantiate Isolation Forest Model\n",
    "if_model = IsolationForest(n_estimators=500, contamination=0.001807)"
   ]
  },
  {
   "cell_type": "code",
   "execution_count": 239,
   "id": "1ed214b2",
   "metadata": {},
   "outputs": [
    {
     "name": "stderr",
     "output_type": "stream",
     "text": [
      "C:\\Users\\saisu\\anaconda3\\lib\\site-packages\\sklearn\\base.py:450: UserWarning: X does not have valid feature names, but IsolationForest was fitted with feature names\n",
      "  warnings.warn(\n"
     ]
    },
    {
     "data": {
      "text/plain": [
       "IsolationForest(contamination=0.001807, n_estimators=500)"
      ]
     },
     "execution_count": 239,
     "metadata": {},
     "output_type": "execute_result"
    }
   ],
   "source": [
    "#Fit model\n",
    "if_model.fit(X)"
   ]
  },
  {
   "cell_type": "code",
   "execution_count": 243,
   "id": "9e6e2df5",
   "metadata": {},
   "outputs": [],
   "source": [
    "#predicted score # 1 - anomaly score #Since anomaly score is ~1 for outlier\n",
    "#~0 is outlier, ~1 is inlier\n",
    "#Get scores & predictions\n",
    "predicted_scores = if_model.decision_function(X)\n",
    "predicted = if_model.predict(X)"
   ]
  },
  {
   "cell_type": "code",
   "execution_count": 193,
   "id": "e1b1af77",
   "metadata": {},
   "outputs": [
    {
     "data": {
      "image/png": "[encoded data removed]",
      "text/plain": [
       "<Figure size 432x288 with 1 Axes>"
      ]
     },
     "metadata": {
      "needs_background": "light"
     },
     "output_type": "display_data"
    }
   ],
   "source": [
    "#Visualize using histogram to see distribtution \n",
    "plt.hist(predicted_scores, bins=70)\n",
    "plt.show()"
   ]
  },
  {
   "cell_type": "code",
   "execution_count": 249,
   "id": "d41d7b33",
   "metadata": {},
   "outputs": [],
   "source": [
    "#Add to DF\n",
    "transactions_df['score'] = predicted_scores\n",
    "transactions_df['predicted'] = predicted"
   ]
  },
  {
   "cell_type": "code",
   "execution_count": 251,
   "id": "c2186428",
   "metadata": {},
   "outputs": [],
   "source": [
    "#Adjust class column for scoring\n",
    "transactions_df['class_scoring'] = transactions_df.Class.apply(lambda x: -1 if x == 1 else 1)"
   ]
  },
  {
   "cell_type": "code",
   "execution_count": 252,
   "id": "bf84b0f6",
   "metadata": {},
   "outputs": [
    {
     "data": {
      "text/html": [
       "<div>\n",
       "<style scoped>\n",
       "    .dataframe tbody tr th:only-of-type {\n",
       "        vertical-align: middle;\n",
       "    }\n",
       "\n",
       "    .dataframe tbody tr th {\n",
       "        vertical-align: top;\n",
       "    }\n",
       "\n",
       "    .dataframe thead th {\n",
       "        text-align: right;\n",
       "    }\n",
       "</style>\n",
       "<table border=\"1\" class=\"dataframe\">\n",
       "  <thead>\n",
       "    <tr style=\"text-align: right;\">\n",
       "      <th></th>\n",
       "      <th>Timestamp</th>\n",
       "      <th>Value</th>\n",
       "      <th>C1</th>\n",
       "      <th>C2</th>\n",
       "      <th>C3</th>\n",
       "      <th>C4</th>\n",
       "      <th>C5</th>\n",
       "      <th>C6</th>\n",
       "      <th>C7</th>\n",
       "      <th>C8</th>\n",
       "      <th>C9</th>\n",
       "      <th>C10</th>\n",
       "      <th>C11</th>\n",
       "      <th>C12</th>\n",
       "      <th>Class</th>\n",
       "      <th>score</th>\n",
       "      <th>predicted</th>\n",
       "      <th>class_scoring</th>\n",
       "    </tr>\n",
       "  </thead>\n",
       "  <tbody>\n",
       "    <tr>\n",
       "      <th>0</th>\n",
       "      <td>152212.22220</td>\n",
       "      <td>1.816</td>\n",
       "      <td>13.245219</td>\n",
       "      <td>-0.019520</td>\n",
       "      <td>16.367516</td>\n",
       "      <td>0.029326</td>\n",
       "      <td>1.278423</td>\n",
       "      <td>2.748137</td>\n",
       "      <td>-1.331457</td>\n",
       "      <td>0.065879</td>\n",
       "      <td>-0.104518</td>\n",
       "      <td>-0.037517</td>\n",
       "      <td>-250.000000</td>\n",
       "      <td>-0.475633</td>\n",
       "      <td>0</td>\n",
       "      <td>0.201398</td>\n",
       "      <td>1</td>\n",
       "      <td>1</td>\n",
       "    </tr>\n",
       "    <tr>\n",
       "      <th>1</th>\n",
       "      <td>159074.44440</td>\n",
       "      <td>163.568</td>\n",
       "      <td>4.401403</td>\n",
       "      <td>0.084682</td>\n",
       "      <td>-313.000000</td>\n",
       "      <td>0.001888</td>\n",
       "      <td>-0.103762</td>\n",
       "      <td>1.115678</td>\n",
       "      <td>0.023023</td>\n",
       "      <td>0.062966</td>\n",
       "      <td>0.130546</td>\n",
       "      <td>-0.303582</td>\n",
       "      <td>-0.019975</td>\n",
       "      <td>0.007491</td>\n",
       "      <td>0</td>\n",
       "      <td>0.150000</td>\n",
       "      <td>1</td>\n",
       "      <td>1</td>\n",
       "    </tr>\n",
       "    <tr>\n",
       "      <th>2</th>\n",
       "      <td>43127.77778</td>\n",
       "      <td>24.000</td>\n",
       "      <td>-9.067399</td>\n",
       "      <td>0.762501</td>\n",
       "      <td>-1.739613</td>\n",
       "      <td>0.052481</td>\n",
       "      <td>-0.101681</td>\n",
       "      <td>-88.000000</td>\n",
       "      <td>0.117912</td>\n",
       "      <td>-0.005629</td>\n",
       "      <td>0.358812</td>\n",
       "      <td>-0.367016</td>\n",
       "      <td>-0.019975</td>\n",
       "      <td>361.000000</td>\n",
       "      <td>0</td>\n",
       "      <td>0.171679</td>\n",
       "      <td>1</td>\n",
       "      <td>1</td>\n",
       "    </tr>\n",
       "    <tr>\n",
       "      <th>3</th>\n",
       "      <td>156042.22220</td>\n",
       "      <td>8.000</td>\n",
       "      <td>8.728304</td>\n",
       "      <td>-0.382673</td>\n",
       "      <td>-1.739613</td>\n",
       "      <td>-0.116056</td>\n",
       "      <td>-0.122346</td>\n",
       "      <td>-44.000000</td>\n",
       "      <td>-338.000000</td>\n",
       "      <td>0.042154</td>\n",
       "      <td>-0.261259</td>\n",
       "      <td>-0.103974</td>\n",
       "      <td>-0.019975</td>\n",
       "      <td>-1.654373</td>\n",
       "      <td>0</td>\n",
       "      <td>0.144204</td>\n",
       "      <td>1</td>\n",
       "      <td>1</td>\n",
       "    </tr>\n",
       "    <tr>\n",
       "      <th>4</th>\n",
       "      <td>154720.00000</td>\n",
       "      <td>59.496</td>\n",
       "      <td>7.657141</td>\n",
       "      <td>0.150611</td>\n",
       "      <td>-1.739613</td>\n",
       "      <td>-0.034883</td>\n",
       "      <td>0.826100</td>\n",
       "      <td>0.357556</td>\n",
       "      <td>0.147640</td>\n",
       "      <td>-0.005629</td>\n",
       "      <td>0.080491</td>\n",
       "      <td>-0.693792</td>\n",
       "      <td>-0.308631</td>\n",
       "      <td>0.563570</td>\n",
       "      <td>0</td>\n",
       "      <td>0.222328</td>\n",
       "      <td>1</td>\n",
       "      <td>1</td>\n",
       "    </tr>\n",
       "  </tbody>\n",
       "</table>\n",
       "</div>"
      ],
      "text/plain": [
       "      Timestamp    Value         C1        C2          C3        C4        C5  \\\n",
       "0  152212.22220    1.816  13.245219 -0.019520   16.367516  0.029326  1.278423   \n",
       "1  159074.44440  163.568   4.401403  0.084682 -313.000000  0.001888 -0.103762   \n",
       "2   43127.77778   24.000  -9.067399  0.762501   -1.739613  0.052481 -0.101681   \n",
       "3  156042.22220    8.000   8.728304 -0.382673   -1.739613 -0.116056 -0.122346   \n",
       "4  154720.00000   59.496   7.657141  0.150611   -1.739613 -0.034883  0.826100   \n",
       "\n",
       "          C6          C7        C8        C9       C10         C11  \\\n",
       "0   2.748137   -1.331457  0.065879 -0.104518 -0.037517 -250.000000   \n",
       "1   1.115678    0.023023  0.062966  0.130546 -0.303582   -0.019975   \n",
       "2 -88.000000    0.117912 -0.005629  0.358812 -0.367016   -0.019975   \n",
       "3 -44.000000 -338.000000  0.042154 -0.261259 -0.103974   -0.019975   \n",
       "4   0.357556    0.147640 -0.005629  0.080491 -0.693792   -0.308631   \n",
       "\n",
       "          C12  Class     score  predicted  class_scoring  \n",
       "0   -0.475633      0  0.201398          1              1  \n",
       "1    0.007491      0  0.150000          1              1  \n",
       "2  361.000000      0  0.171679          1              1  \n",
       "3   -1.654373      0  0.144204          1              1  \n",
       "4    0.563570      0  0.222328          1              1  "
      ]
     },
     "execution_count": 252,
     "metadata": {},
     "output_type": "execute_result"
    }
   ],
   "source": [
    "#Check adjusted df\n",
    "transactions_df.head()"
   ]
  },
  {
   "cell_type": "markdown",
   "id": "9be3fbf8",
   "metadata": {},
   "source": [
    "### Part Three: Local Outlier Factor algorithm\n",
    "#### Use Local Outlier Factor algorithm (Density Based Clustering)"
   ]
  },
  {
   "cell_type": "code",
   "execution_count": 269,
   "id": "fcc9a806",
   "metadata": {},
   "outputs": [],
   "source": [
    "#Instantiate LOF Model\n",
    "lof = LocalOutlierFactor(novelty=True, contamination=0.001807)"
   ]
  },
  {
   "cell_type": "code",
   "execution_count": 270,
   "id": "21fa357f",
   "metadata": {},
   "outputs": [
    {
     "data": {
      "text/plain": [
       "LocalOutlierFactor(contamination=0.001807, novelty=True)"
      ]
     },
     "execution_count": 270,
     "metadata": {},
     "output_type": "execute_result"
    }
   ],
   "source": [
    "#Train model to data\n",
    "lof.fit(X)"
   ]
  },
  {
   "cell_type": "code",
   "execution_count": 271,
   "id": "a77c7f2d",
   "metadata": {},
   "outputs": [
    {
     "name": "stderr",
     "output_type": "stream",
     "text": [
      "C:\\Users\\saisu\\anaconda3\\lib\\site-packages\\sklearn\\base.py:450: UserWarning: X does not have valid feature names, but LocalOutlierFactor was fitted with feature names\n",
      "  warnings.warn(\n",
      "C:\\Users\\saisu\\anaconda3\\lib\\site-packages\\sklearn\\base.py:450: UserWarning: X does not have valid feature names, but LocalOutlierFactor was fitted with feature names\n",
      "  warnings.warn(\n"
     ]
    }
   ],
   "source": [
    "#Get predicted scores and predictions to add to df\n",
    "predicted_scores = lof.decision_function(X)\n",
    "predicted = lof.predict(X)"
   ]
  },
  {
   "cell_type": "code",
   "execution_count": 315,
   "id": "a1335192",
   "metadata": {},
   "outputs": [
    {
     "data": {
      "image/png": "[encoded data removed]",
      "text/plain": [
       "<Figure size 432x288 with 1 Axes>"
      ]
     },
     "metadata": {
      "needs_background": "light"
     },
     "output_type": "display_data"
    }
   ],
   "source": [
    "#Visualize using histogram to see distribtution \n",
    "plt.hist(predicted_scores, bins=10)\n",
    "plt.show()"
   ]
  },
  {
   "cell_type": "code",
   "execution_count": 272,
   "id": "7a1e5120",
   "metadata": {},
   "outputs": [],
   "source": [
    "#Add LOF results to DF\n",
    "transactions_df['lof_score'] = predicted_scores\n",
    "transactions_df['lof_predicted'] = predicted"
   ]
  },
  {
   "cell_type": "code",
   "execution_count": 278,
   "id": "7f8f3d79",
   "metadata": {},
   "outputs": [
    {
     "data": {
      "text/html": [
       "<div>\n",
       "<style scoped>\n",
       "    .dataframe tbody tr th:only-of-type {\n",
       "        vertical-align: middle;\n",
       "    }\n",
       "\n",
       "    .dataframe tbody tr th {\n",
       "        vertical-align: top;\n",
       "    }\n",
       "\n",
       "    .dataframe thead th {\n",
       "        text-align: right;\n",
       "    }\n",
       "</style>\n",
       "<table border=\"1\" class=\"dataframe\">\n",
       "  <thead>\n",
       "    <tr style=\"text-align: right;\">\n",
       "      <th></th>\n",
       "      <th>Timestamp</th>\n",
       "      <th>Value</th>\n",
       "      <th>C1</th>\n",
       "      <th>C2</th>\n",
       "      <th>C3</th>\n",
       "      <th>C4</th>\n",
       "      <th>C5</th>\n",
       "      <th>C6</th>\n",
       "      <th>C7</th>\n",
       "      <th>C8</th>\n",
       "      <th>C9</th>\n",
       "      <th>C10</th>\n",
       "      <th>C11</th>\n",
       "      <th>C12</th>\n",
       "      <th>Class</th>\n",
       "      <th>score</th>\n",
       "      <th>predicted</th>\n",
       "      <th>class_scoring</th>\n",
       "      <th>lof_score</th>\n",
       "      <th>lof_predicted</th>\n",
       "    </tr>\n",
       "  </thead>\n",
       "  <tbody>\n",
       "    <tr>\n",
       "      <th>0</th>\n",
       "      <td>152212.22220</td>\n",
       "      <td>1.816</td>\n",
       "      <td>13.245219</td>\n",
       "      <td>-0.019520</td>\n",
       "      <td>16.367516</td>\n",
       "      <td>0.029326</td>\n",
       "      <td>1.278423</td>\n",
       "      <td>2.748137</td>\n",
       "      <td>-1.331457</td>\n",
       "      <td>0.065879</td>\n",
       "      <td>-0.104518</td>\n",
       "      <td>-0.037517</td>\n",
       "      <td>-250.000000</td>\n",
       "      <td>-0.475633</td>\n",
       "      <td>0</td>\n",
       "      <td>0.201398</td>\n",
       "      <td>1</td>\n",
       "      <td>1</td>\n",
       "      <td>6.859008</td>\n",
       "      <td>1</td>\n",
       "    </tr>\n",
       "    <tr>\n",
       "      <th>1</th>\n",
       "      <td>159074.44440</td>\n",
       "      <td>163.568</td>\n",
       "      <td>4.401403</td>\n",
       "      <td>0.084682</td>\n",
       "      <td>-313.000000</td>\n",
       "      <td>0.001888</td>\n",
       "      <td>-0.103762</td>\n",
       "      <td>1.115678</td>\n",
       "      <td>0.023023</td>\n",
       "      <td>0.062966</td>\n",
       "      <td>0.130546</td>\n",
       "      <td>-0.303582</td>\n",
       "      <td>-0.019975</td>\n",
       "      <td>0.007491</td>\n",
       "      <td>0</td>\n",
       "      <td>0.150000</td>\n",
       "      <td>1</td>\n",
       "      <td>1</td>\n",
       "      <td>6.891965</td>\n",
       "      <td>1</td>\n",
       "    </tr>\n",
       "    <tr>\n",
       "      <th>2</th>\n",
       "      <td>43127.77778</td>\n",
       "      <td>24.000</td>\n",
       "      <td>-9.067399</td>\n",
       "      <td>0.762501</td>\n",
       "      <td>-1.739613</td>\n",
       "      <td>0.052481</td>\n",
       "      <td>-0.101681</td>\n",
       "      <td>-88.000000</td>\n",
       "      <td>0.117912</td>\n",
       "      <td>-0.005629</td>\n",
       "      <td>0.358812</td>\n",
       "      <td>-0.367016</td>\n",
       "      <td>-0.019975</td>\n",
       "      <td>361.000000</td>\n",
       "      <td>0</td>\n",
       "      <td>0.171679</td>\n",
       "      <td>1</td>\n",
       "      <td>1</td>\n",
       "      <td>5.663445</td>\n",
       "      <td>1</td>\n",
       "    </tr>\n",
       "    <tr>\n",
       "      <th>3</th>\n",
       "      <td>156042.22220</td>\n",
       "      <td>8.000</td>\n",
       "      <td>8.728304</td>\n",
       "      <td>-0.382673</td>\n",
       "      <td>-1.739613</td>\n",
       "      <td>-0.116056</td>\n",
       "      <td>-0.122346</td>\n",
       "      <td>-44.000000</td>\n",
       "      <td>-338.000000</td>\n",
       "      <td>0.042154</td>\n",
       "      <td>-0.261259</td>\n",
       "      <td>-0.103974</td>\n",
       "      <td>-0.019975</td>\n",
       "      <td>-1.654373</td>\n",
       "      <td>0</td>\n",
       "      <td>0.144204</td>\n",
       "      <td>1</td>\n",
       "      <td>1</td>\n",
       "      <td>6.644320</td>\n",
       "      <td>1</td>\n",
       "    </tr>\n",
       "    <tr>\n",
       "      <th>4</th>\n",
       "      <td>154720.00000</td>\n",
       "      <td>59.496</td>\n",
       "      <td>7.657141</td>\n",
       "      <td>0.150611</td>\n",
       "      <td>-1.739613</td>\n",
       "      <td>-0.034883</td>\n",
       "      <td>0.826100</td>\n",
       "      <td>0.357556</td>\n",
       "      <td>0.147640</td>\n",
       "      <td>-0.005629</td>\n",
       "      <td>0.080491</td>\n",
       "      <td>-0.693792</td>\n",
       "      <td>-0.308631</td>\n",
       "      <td>0.563570</td>\n",
       "      <td>0</td>\n",
       "      <td>0.222328</td>\n",
       "      <td>1</td>\n",
       "      <td>1</td>\n",
       "      <td>6.733855</td>\n",
       "      <td>1</td>\n",
       "    </tr>\n",
       "  </tbody>\n",
       "</table>\n",
       "</div>"
      ],
      "text/plain": [
       "      Timestamp    Value         C1        C2          C3        C4        C5  \\\n",
       "0  152212.22220    1.816  13.245219 -0.019520   16.367516  0.029326  1.278423   \n",
       "1  159074.44440  163.568   4.401403  0.084682 -313.000000  0.001888 -0.103762   \n",
       "2   43127.77778   24.000  -9.067399  0.762501   -1.739613  0.052481 -0.101681   \n",
       "3  156042.22220    8.000   8.728304 -0.382673   -1.739613 -0.116056 -0.122346   \n",
       "4  154720.00000   59.496   7.657141  0.150611   -1.739613 -0.034883  0.826100   \n",
       "\n",
       "          C6          C7        C8        C9       C10         C11  \\\n",
       "0   2.748137   -1.331457  0.065879 -0.104518 -0.037517 -250.000000   \n",
       "1   1.115678    0.023023  0.062966  0.130546 -0.303582   -0.019975   \n",
       "2 -88.000000    0.117912 -0.005629  0.358812 -0.367016   -0.019975   \n",
       "3 -44.000000 -338.000000  0.042154 -0.261259 -0.103974   -0.019975   \n",
       "4   0.357556    0.147640 -0.005629  0.080491 -0.693792   -0.308631   \n",
       "\n",
       "          C12  Class     score  predicted  class_scoring  lof_score  \\\n",
       "0   -0.475633      0  0.201398          1              1   6.859008   \n",
       "1    0.007491      0  0.150000          1              1   6.891965   \n",
       "2  361.000000      0  0.171679          1              1   5.663445   \n",
       "3   -1.654373      0  0.144204          1              1   6.644320   \n",
       "4    0.563570      0  0.222328          1              1   6.733855   \n",
       "\n",
       "   lof_predicted  \n",
       "0              1  \n",
       "1              1  \n",
       "2              1  \n",
       "3              1  \n",
       "4              1  "
      ]
     },
     "execution_count": 278,
     "metadata": {},
     "output_type": "execute_result"
    }
   ],
   "source": [
    "transactions_df.head()"
   ]
  },
  {
   "cell_type": "code",
   "execution_count": 282,
   "id": "f49c872d",
   "metadata": {},
   "outputs": [],
   "source": [
    "#Convert x to numpy array for plotting\n",
    "X_arr = X.to_numpy()"
   ]
  },
  {
   "cell_type": "code",
   "execution_count": 289,
   "id": "bc644c89",
   "metadata": {},
   "outputs": [],
   "source": [
    "#Extract outliers\n",
    "y_index = np.where(predicted==-1)\n",
    "outliers = X_arr[y_index]"
   ]
  },
  {
   "cell_type": "code",
   "execution_count": 298,
   "id": "ede45a25",
   "metadata": {},
   "outputs": [
    {
     "data": {
      "image/png": "[encoded data removed]",
      "text/plain": [
       "<Figure size 432x288 with 1 Axes>"
      ]
     },
     "metadata": {
      "needs_background": "light"
     },
     "output_type": "display_data"
    }
   ],
   "source": [
    "#Plot scatter plot of outliers\n",
    "plt.scatter(X_arr[:, 0], X_arr[:, 1])\n",
    "plt.scatter(outliers[:, 0], outliers[:, 1], color='r')\n",
    "plt.title('Scatter of outliers (first 2 features)')\n",
    "plt.show()"
   ]
  },
  {
   "cell_type": "code",
   "execution_count": null,
   "id": "dd558738",
   "metadata": {},
   "outputs": [],
   "source": [
    "#As we can conclude, outliers are too similar to data, as such anomaly detection using this dataset is not recommended."
   ]
  },
  {
   "cell_type": "markdown",
   "id": "c55627d9",
   "metadata": {},
   "source": [
    "### Part Four: Support Vector Machine\n",
    "#### Use One Class SVM Algorithm"
   ]
  },
  {
   "cell_type": "code",
   "execution_count": 299,
   "id": "93afc3af",
   "metadata": {},
   "outputs": [],
   "source": [
    "#Instantiate one class svm, keep strict nu, small margin, low misclassification\n",
    "one_svm = OneClassSVM(nu=0.01)"
   ]
  },
  {
   "cell_type": "code",
   "execution_count": 301,
   "id": "a9e0726c",
   "metadata": {},
   "outputs": [
    {
     "data": {
      "text/plain": [
       "OneClassSVM(nu=0.01)"
      ]
     },
     "execution_count": 301,
     "metadata": {},
     "output_type": "execute_result"
    }
   ],
   "source": [
    "#Train Model\n",
    "one_svm.fit(X)"
   ]
  },
  {
   "cell_type": "code",
   "execution_count": 302,
   "id": "2576f0dc",
   "metadata": {},
   "outputs": [],
   "source": [
    "#Get predictions\n",
    "predictions = one_svm.predict(X)"
   ]
  },
  {
   "cell_type": "code",
   "execution_count": 303,
   "id": "8881f6ed",
   "metadata": {},
   "outputs": [],
   "source": [
    "#Append to df\n",
    "transactions_df['SVM_predictions'] = predictions"
   ]
  },
  {
   "cell_type": "code",
   "execution_count": 306,
   "id": "bb7d3b97",
   "metadata": {},
   "outputs": [
    {
     "data": {
      "text/html": [
       "<div>\n",
       "<style scoped>\n",
       "    .dataframe tbody tr th:only-of-type {\n",
       "        vertical-align: middle;\n",
       "    }\n",
       "\n",
       "    .dataframe tbody tr th {\n",
       "        vertical-align: top;\n",
       "    }\n",
       "\n",
       "    .dataframe thead th {\n",
       "        text-align: right;\n",
       "    }\n",
       "</style>\n",
       "<table border=\"1\" class=\"dataframe\">\n",
       "  <thead>\n",
       "    <tr style=\"text-align: right;\">\n",
       "      <th></th>\n",
       "      <th>Timestamp</th>\n",
       "      <th>Value</th>\n",
       "      <th>C1</th>\n",
       "      <th>C2</th>\n",
       "      <th>C3</th>\n",
       "      <th>C4</th>\n",
       "      <th>C5</th>\n",
       "      <th>C6</th>\n",
       "      <th>C7</th>\n",
       "      <th>C8</th>\n",
       "      <th>...</th>\n",
       "      <th>C10</th>\n",
       "      <th>C11</th>\n",
       "      <th>C12</th>\n",
       "      <th>Class</th>\n",
       "      <th>score</th>\n",
       "      <th>predicted</th>\n",
       "      <th>class_scoring</th>\n",
       "      <th>lof_score</th>\n",
       "      <th>lof_predicted</th>\n",
       "      <th>SVM_predictions</th>\n",
       "    </tr>\n",
       "  </thead>\n",
       "  <tbody>\n",
       "    <tr>\n",
       "      <th>0</th>\n",
       "      <td>152212.22220</td>\n",
       "      <td>1.816</td>\n",
       "      <td>13.245219</td>\n",
       "      <td>-0.019520</td>\n",
       "      <td>16.367516</td>\n",
       "      <td>0.029326</td>\n",
       "      <td>1.278423</td>\n",
       "      <td>2.748137</td>\n",
       "      <td>-1.331457</td>\n",
       "      <td>0.065879</td>\n",
       "      <td>...</td>\n",
       "      <td>-0.037517</td>\n",
       "      <td>-250.000000</td>\n",
       "      <td>-0.475633</td>\n",
       "      <td>0</td>\n",
       "      <td>0.201398</td>\n",
       "      <td>1</td>\n",
       "      <td>1</td>\n",
       "      <td>6.859008</td>\n",
       "      <td>1</td>\n",
       "      <td>1</td>\n",
       "    </tr>\n",
       "    <tr>\n",
       "      <th>1</th>\n",
       "      <td>159074.44440</td>\n",
       "      <td>163.568</td>\n",
       "      <td>4.401403</td>\n",
       "      <td>0.084682</td>\n",
       "      <td>-313.000000</td>\n",
       "      <td>0.001888</td>\n",
       "      <td>-0.103762</td>\n",
       "      <td>1.115678</td>\n",
       "      <td>0.023023</td>\n",
       "      <td>0.062966</td>\n",
       "      <td>...</td>\n",
       "      <td>-0.303582</td>\n",
       "      <td>-0.019975</td>\n",
       "      <td>0.007491</td>\n",
       "      <td>0</td>\n",
       "      <td>0.150000</td>\n",
       "      <td>1</td>\n",
       "      <td>1</td>\n",
       "      <td>6.891965</td>\n",
       "      <td>1</td>\n",
       "      <td>1</td>\n",
       "    </tr>\n",
       "    <tr>\n",
       "      <th>2</th>\n",
       "      <td>43127.77778</td>\n",
       "      <td>24.000</td>\n",
       "      <td>-9.067399</td>\n",
       "      <td>0.762501</td>\n",
       "      <td>-1.739613</td>\n",
       "      <td>0.052481</td>\n",
       "      <td>-0.101681</td>\n",
       "      <td>-88.000000</td>\n",
       "      <td>0.117912</td>\n",
       "      <td>-0.005629</td>\n",
       "      <td>...</td>\n",
       "      <td>-0.367016</td>\n",
       "      <td>-0.019975</td>\n",
       "      <td>361.000000</td>\n",
       "      <td>0</td>\n",
       "      <td>0.171679</td>\n",
       "      <td>1</td>\n",
       "      <td>1</td>\n",
       "      <td>5.663445</td>\n",
       "      <td>1</td>\n",
       "      <td>1</td>\n",
       "    </tr>\n",
       "    <tr>\n",
       "      <th>3</th>\n",
       "      <td>156042.22220</td>\n",
       "      <td>8.000</td>\n",
       "      <td>8.728304</td>\n",
       "      <td>-0.382673</td>\n",
       "      <td>-1.739613</td>\n",
       "      <td>-0.116056</td>\n",
       "      <td>-0.122346</td>\n",
       "      <td>-44.000000</td>\n",
       "      <td>-338.000000</td>\n",
       "      <td>0.042154</td>\n",
       "      <td>...</td>\n",
       "      <td>-0.103974</td>\n",
       "      <td>-0.019975</td>\n",
       "      <td>-1.654373</td>\n",
       "      <td>0</td>\n",
       "      <td>0.144204</td>\n",
       "      <td>1</td>\n",
       "      <td>1</td>\n",
       "      <td>6.644320</td>\n",
       "      <td>1</td>\n",
       "      <td>1</td>\n",
       "    </tr>\n",
       "    <tr>\n",
       "      <th>4</th>\n",
       "      <td>154720.00000</td>\n",
       "      <td>59.496</td>\n",
       "      <td>7.657141</td>\n",
       "      <td>0.150611</td>\n",
       "      <td>-1.739613</td>\n",
       "      <td>-0.034883</td>\n",
       "      <td>0.826100</td>\n",
       "      <td>0.357556</td>\n",
       "      <td>0.147640</td>\n",
       "      <td>-0.005629</td>\n",
       "      <td>...</td>\n",
       "      <td>-0.693792</td>\n",
       "      <td>-0.308631</td>\n",
       "      <td>0.563570</td>\n",
       "      <td>0</td>\n",
       "      <td>0.222328</td>\n",
       "      <td>1</td>\n",
       "      <td>1</td>\n",
       "      <td>6.733855</td>\n",
       "      <td>1</td>\n",
       "      <td>1</td>\n",
       "    </tr>\n",
       "  </tbody>\n",
       "</table>\n",
       "<p>5 rows × 21 columns</p>\n",
       "</div>"
      ],
      "text/plain": [
       "      Timestamp    Value         C1        C2          C3        C4        C5  \\\n",
       "0  152212.22220    1.816  13.245219 -0.019520   16.367516  0.029326  1.278423   \n",
       "1  159074.44440  163.568   4.401403  0.084682 -313.000000  0.001888 -0.103762   \n",
       "2   43127.77778   24.000  -9.067399  0.762501   -1.739613  0.052481 -0.101681   \n",
       "3  156042.22220    8.000   8.728304 -0.382673   -1.739613 -0.116056 -0.122346   \n",
       "4  154720.00000   59.496   7.657141  0.150611   -1.739613 -0.034883  0.826100   \n",
       "\n",
       "          C6          C7        C8  ...       C10         C11         C12  \\\n",
       "0   2.748137   -1.331457  0.065879  ... -0.037517 -250.000000   -0.475633   \n",
       "1   1.115678    0.023023  0.062966  ... -0.303582   -0.019975    0.007491   \n",
       "2 -88.000000    0.117912 -0.005629  ... -0.367016   -0.019975  361.000000   \n",
       "3 -44.000000 -338.000000  0.042154  ... -0.103974   -0.019975   -1.654373   \n",
       "4   0.357556    0.147640 -0.005629  ... -0.693792   -0.308631    0.563570   \n",
       "\n",
       "   Class     score  predicted  class_scoring  lof_score  lof_predicted  \\\n",
       "0      0  0.201398          1              1   6.859008              1   \n",
       "1      0  0.150000          1              1   6.891965              1   \n",
       "2      0  0.171679          1              1   5.663445              1   \n",
       "3      0  0.144204          1              1   6.644320              1   \n",
       "4      0  0.222328          1              1   6.733855              1   \n",
       "\n",
       "   SVM_predictions  \n",
       "0                1  \n",
       "1                1  \n",
       "2                1  \n",
       "3                1  \n",
       "4                1  \n",
       "\n",
       "[5 rows x 21 columns]"
      ]
     },
     "execution_count": 306,
     "metadata": {},
     "output_type": "execute_result"
    }
   ],
   "source": [
    "#View final df\n",
    "transactions_df.head()"
   ]
  }
 ],
 "metadata": {
  "kernelspec": {
   "display_name": "Python 3 (ipykernel)",
   "language": "python",
   "name": "python3"
  },
  "language_info": {
   "codemirror_mode": {
    "name": "ipython",
    "version": 3
   },
   "file_extension": ".py",
   "mimetype": "text/x-python",
   "name": "python",
   "nbconvert_exporter": "python",
   "pygments_lexer": "ipython3",
   "version": "3.9.7"
  }
 },
 "nbformat": 4,
 "nbformat_minor": 5
}
